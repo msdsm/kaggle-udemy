{
 "cells": [
  {
   "cell_type": "markdown",
   "metadata": {},
   "source": [
    "---\n",
    "# DataFrame  Exercise\n",
    "---"
   ]
  },
  {
   "cell_type": "code",
   "execution_count": 2,
   "metadata": {},
   "outputs": [],
   "source": [
    "import numpy as np\n",
    "import pandas as pd\n",
    "import matplotlib.pyplot as plt\n",
    "import seaborn as sns"
   ]
  },
  {
   "cell_type": "markdown",
   "metadata": {},
   "source": [
    "Exercise_1 : Pandas の date_range を用いて 2000/7/1 から100日の DatetimeIndexと、2000/7/1 0時からから3時間毎の100個の DatetimeIndexを作成してください（date）"
   ]
  },
  {
   "cell_type": "code",
   "execution_count": 3,
   "metadata": {},
   "outputs": [],
   "source": [
    "dates = pd.date_range(\"2000/7/1\", periods=100, freq=\"D\")"
   ]
  },
  {
   "cell_type": "markdown",
   "metadata": {},
   "source": [
    "<details>\n",
    "    <summary><font color='red'>解答はここをクリック</font></summary>\n",
    "    <code>dates = pd.date_range('2000/7/1', periods=100, freq='D')</code>\n",
    "</details>"
   ]
  },
  {
   "cell_type": "code",
   "execution_count": 4,
   "metadata": {},
   "outputs": [
    {
     "data": {
      "text/plain": [
       "DatetimeIndex(['2000-07-01', '2000-07-02', '2000-07-03', '2000-07-04',\n",
       "               '2000-07-05', '2000-07-06', '2000-07-07', '2000-07-08',\n",
       "               '2000-07-09', '2000-07-10'],\n",
       "              dtype='datetime64[ns]', freq='D')"
      ]
     },
     "execution_count": 4,
     "metadata": {},
     "output_type": "execute_result"
    }
   ],
   "source": [
    "# 実行して表示\n",
    "dates[:10]"
   ]
  },
  {
   "cell_type": "code",
   "execution_count": 9,
   "metadata": {},
   "outputs": [],
   "source": [
    "times = pd.date_range(\"2000/7/1\", periods=100, freq=\"3h\")"
   ]
  },
  {
   "cell_type": "markdown",
   "metadata": {},
   "source": [
    "<details>\n",
    "    <summary><font color='red'>解答はここをクリック</font></summary>\n",
    "    <code>dates = pd.date_range('2000/7/1', periods=100, freq='3H')</code>\n",
    "</details>"
   ]
  },
  {
   "cell_type": "code",
   "execution_count": 10,
   "metadata": {},
   "outputs": [
    {
     "data": {
      "text/plain": [
       "DatetimeIndex(['2000-07-01 00:00:00', '2000-07-01 03:00:00',\n",
       "               '2000-07-01 06:00:00', '2000-07-01 09:00:00',\n",
       "               '2000-07-01 12:00:00', '2000-07-01 15:00:00',\n",
       "               '2000-07-01 18:00:00', '2000-07-01 21:00:00',\n",
       "               '2000-07-02 00:00:00', '2000-07-02 03:00:00'],\n",
       "              dtype='datetime64[ns]', freq='3h')"
      ]
     },
     "execution_count": 10,
     "metadata": {},
     "output_type": "execute_result"
    }
   ],
   "source": [
    "# 実行して表示\n",
    "times[:10]"
   ]
  },
  {
   "cell_type": "markdown",
   "metadata": {},
   "source": [
    "Exercise_2 : arr_int と arr_uni の Numpy Array を index方向（縦、1次元方向）、column方向（横、2次元方向）に結合してください（arr_concat_v, arr_concat_h）"
   ]
  },
  {
   "cell_type": "code",
   "execution_count": 11,
   "metadata": {},
   "outputs": [],
   "source": [
    "# 実行のみ\n",
    "arr_int = np.random.randint(0, 100, (4, 3))\n",
    "arr_uni = np.random.uniform(40, 60, (4, 3))"
   ]
  },
  {
   "cell_type": "code",
   "execution_count": 14,
   "metadata": {},
   "outputs": [
    {
     "data": {
      "text/plain": [
       "array([[77.        , 75.        , 57.        ],\n",
       "       [27.        , 89.        , 96.        ],\n",
       "       [24.        , 29.        , 77.        ],\n",
       "       [55.        , 50.        , 75.        ],\n",
       "       [42.54868203, 41.80407075, 41.17806326],\n",
       "       [59.58241472, 50.15566526, 50.94516234],\n",
       "       [41.46690969, 58.81977636, 53.9783446 ],\n",
       "       [51.76606126, 56.614613  , 43.18965425]])"
      ]
     },
     "execution_count": 14,
     "metadata": {},
     "output_type": "execute_result"
    }
   ],
   "source": [
    "arr_concat_v = np.concatenate([arr_int, arr_uni], axis=0)\n",
    "arr_concat_v"
   ]
  },
  {
   "cell_type": "markdown",
   "metadata": {},
   "source": [
    "<details>\n",
    "    <summary><font color='red'>解答はここをクリック</font></summary>\n",
    "    <code>arr_concat_v = np.concatenate([arr_int, arr_uni], axis=0)</code>\n",
    "</details>"
   ]
  },
  {
   "cell_type": "code",
   "execution_count": 15,
   "metadata": {},
   "outputs": [
    {
     "data": {
      "text/plain": [
       "(8, 3)"
      ]
     },
     "execution_count": 15,
     "metadata": {},
     "output_type": "execute_result"
    }
   ],
   "source": [
    "# 実行して表示\n",
    "arr_concat_v.shape\n",
    "# (8, 3)が表示されればOK"
   ]
  },
  {
   "cell_type": "code",
   "execution_count": 16,
   "metadata": {},
   "outputs": [
    {
     "data": {
      "text/plain": [
       "array([[77.        , 75.        , 57.        , 42.54868203, 41.80407075,\n",
       "        41.17806326],\n",
       "       [27.        , 89.        , 96.        , 59.58241472, 50.15566526,\n",
       "        50.94516234],\n",
       "       [24.        , 29.        , 77.        , 41.46690969, 58.81977636,\n",
       "        53.9783446 ],\n",
       "       [55.        , 50.        , 75.        , 51.76606126, 56.614613  ,\n",
       "        43.18965425]])"
      ]
     },
     "execution_count": 16,
     "metadata": {},
     "output_type": "execute_result"
    }
   ],
   "source": [
    "arr_concat_h = np.concatenate([arr_int, arr_uni], axis=1)\n",
    "arr_concat_h"
   ]
  },
  {
   "cell_type": "markdown",
   "metadata": {},
   "source": [
    "<details>\n",
    "    <summary><font color='red'>解答はここをクリック</font></summary>\n",
    "    <code>arr_concat_h = np.concatenate([arr_int, arr_uni], axis=1)</code>\n",
    "</details>"
   ]
  },
  {
   "cell_type": "code",
   "execution_count": 17,
   "metadata": {},
   "outputs": [
    {
     "data": {
      "text/plain": [
       "(4, 6)"
      ]
     },
     "execution_count": 17,
     "metadata": {},
     "output_type": "execute_result"
    }
   ],
   "source": [
    "arr_concat_h.shape\n",
    "# (4, 6)が表示されればOK"
   ]
  },
  {
   "cell_type": "markdown",
   "metadata": {},
   "source": [
    "Exercise_3 : arr_concat_v から、Seriesを作成してください（sr1）。　ヒント　次元の変更"
   ]
  },
  {
   "cell_type": "code",
   "execution_count": 18,
   "metadata": {},
   "outputs": [],
   "source": [
    "sr1 = pd.Series(arr_concat_v.flatten())"
   ]
  },
  {
   "cell_type": "markdown",
   "metadata": {},
   "source": [
    "<details>\n",
    "    <summary><font color='red'>解答はここをクリック</font></summary>\n",
    "    <code>sr1 = pd.Series(arr_concat_v.flatten())</code>\n",
    "</details>"
   ]
  },
  {
   "cell_type": "code",
   "execution_count": 19,
   "metadata": {},
   "outputs": [
    {
     "data": {
      "text/plain": [
       "0     77.000000\n",
       "1     75.000000\n",
       "2     57.000000\n",
       "3     27.000000\n",
       "4     89.000000\n",
       "5     96.000000\n",
       "6     24.000000\n",
       "7     29.000000\n",
       "8     77.000000\n",
       "9     55.000000\n",
       "10    50.000000\n",
       "11    75.000000\n",
       "12    42.548682\n",
       "13    41.804071\n",
       "14    41.178063\n",
       "15    59.582415\n",
       "16    50.155665\n",
       "17    50.945162\n",
       "18    41.466910\n",
       "19    58.819776\n",
       "20    53.978345\n",
       "21    51.766061\n",
       "22    56.614613\n",
       "23    43.189654\n",
       "dtype: float64"
      ]
     },
     "execution_count": 19,
     "metadata": {},
     "output_type": "execute_result"
    }
   ],
   "source": [
    "# 実行して表示\n",
    "sr1"
   ]
  },
  {
   "cell_type": "markdown",
   "metadata": {},
   "source": [
    "Exercise_4 : arr_concat_h から、indexラベルを ['Zero', 'One', 'Two', 'Three']、columnラベルを ['A', 'B', 'C', 'D', 'E', 'F'] としてデータフレームを作成してください（df1)"
   ]
  },
  {
   "cell_type": "code",
   "execution_count": 20,
   "metadata": {},
   "outputs": [],
   "source": [
    "df1 = pd.DataFrame(arr_concat_h, index=[\"Zero\", \"One\", \"Two\", \"Three\"], columns=list(\"ABCDEF\"))"
   ]
  },
  {
   "cell_type": "markdown",
   "metadata": {},
   "source": [
    "<details>\n",
    "    <summary><font color='red'>解答はここをクリック</font></summary>\n",
    "    <code>df1 = pd.DataFrame(arr_concat_h, index=['Zero', 'One', 'Two', 'Three'], columns= ['A', 'B', 'C', 'D', 'E', 'F'])</code>\n",
    "</details>"
   ]
  },
  {
   "cell_type": "code",
   "execution_count": 21,
   "metadata": {},
   "outputs": [
    {
     "data": {
      "text/html": [
       "<div>\n",
       "<style scoped>\n",
       "    .dataframe tbody tr th:only-of-type {\n",
       "        vertical-align: middle;\n",
       "    }\n",
       "\n",
       "    .dataframe tbody tr th {\n",
       "        vertical-align: top;\n",
       "    }\n",
       "\n",
       "    .dataframe thead th {\n",
       "        text-align: right;\n",
       "    }\n",
       "</style>\n",
       "<table border=\"1\" class=\"dataframe\">\n",
       "  <thead>\n",
       "    <tr style=\"text-align: right;\">\n",
       "      <th></th>\n",
       "      <th>A</th>\n",
       "      <th>B</th>\n",
       "      <th>C</th>\n",
       "      <th>D</th>\n",
       "      <th>E</th>\n",
       "      <th>F</th>\n",
       "    </tr>\n",
       "  </thead>\n",
       "  <tbody>\n",
       "    <tr>\n",
       "      <th>Zero</th>\n",
       "      <td>77.0</td>\n",
       "      <td>75.0</td>\n",
       "      <td>57.0</td>\n",
       "      <td>42.548682</td>\n",
       "      <td>41.804071</td>\n",
       "      <td>41.178063</td>\n",
       "    </tr>\n",
       "    <tr>\n",
       "      <th>One</th>\n",
       "      <td>27.0</td>\n",
       "      <td>89.0</td>\n",
       "      <td>96.0</td>\n",
       "      <td>59.582415</td>\n",
       "      <td>50.155665</td>\n",
       "      <td>50.945162</td>\n",
       "    </tr>\n",
       "    <tr>\n",
       "      <th>Two</th>\n",
       "      <td>24.0</td>\n",
       "      <td>29.0</td>\n",
       "      <td>77.0</td>\n",
       "      <td>41.466910</td>\n",
       "      <td>58.819776</td>\n",
       "      <td>53.978345</td>\n",
       "    </tr>\n",
       "    <tr>\n",
       "      <th>Three</th>\n",
       "      <td>55.0</td>\n",
       "      <td>50.0</td>\n",
       "      <td>75.0</td>\n",
       "      <td>51.766061</td>\n",
       "      <td>56.614613</td>\n",
       "      <td>43.189654</td>\n",
       "    </tr>\n",
       "  </tbody>\n",
       "</table>\n",
       "</div>"
      ],
      "text/plain": [
       "          A     B     C          D          E          F\n",
       "Zero   77.0  75.0  57.0  42.548682  41.804071  41.178063\n",
       "One    27.0  89.0  96.0  59.582415  50.155665  50.945162\n",
       "Two    24.0  29.0  77.0  41.466910  58.819776  53.978345\n",
       "Three  55.0  50.0  75.0  51.766061  56.614613  43.189654"
      ]
     },
     "execution_count": 21,
     "metadata": {},
     "output_type": "execute_result"
    }
   ],
   "source": [
    "# 実行して表示\n",
    "df1"
   ]
  },
  {
   "cell_type": "markdown",
   "metadata": {},
   "source": [
    "Exercise_5 : 上記 df の indexラベルを ['P', 'Q', 'R', 'S']、columnラベルを ['col_0', 'col_1', 'col_2', 'col_3', 'col_4', 'col_5'] へ変更してください"
   ]
  },
  {
   "cell_type": "code",
   "execution_count": 22,
   "metadata": {},
   "outputs": [],
   "source": [
    "df1.index = [\"P\", \"Q\", \"R\", \"S\"]\n",
    "df1.columns =  ['col_0', 'col_1', 'col_2', 'col_3', 'col_4', 'col_5']"
   ]
  },
  {
   "cell_type": "markdown",
   "metadata": {},
   "source": [
    "<details>\n",
    "    <summary><font color='red'>解答はここをクリック</font></summary>\n",
    "    <code>df1.index = ['P', 'Q', 'R', 'S']</code><br>\n",
    "    <code>df1.columns = ['col_0', 'col_1', 'col_2', 'col_3', 'col_4', 'col_5']</code><br>\n",
    "    <code>df1.rename(index={'旧':'新', ...}, columns={'旧':'新', ...})でも可</code>\n",
    "</details>"
   ]
  },
  {
   "cell_type": "code",
   "execution_count": 23,
   "metadata": {},
   "outputs": [
    {
     "data": {
      "text/html": [
       "<div>\n",
       "<style scoped>\n",
       "    .dataframe tbody tr th:only-of-type {\n",
       "        vertical-align: middle;\n",
       "    }\n",
       "\n",
       "    .dataframe tbody tr th {\n",
       "        vertical-align: top;\n",
       "    }\n",
       "\n",
       "    .dataframe thead th {\n",
       "        text-align: right;\n",
       "    }\n",
       "</style>\n",
       "<table border=\"1\" class=\"dataframe\">\n",
       "  <thead>\n",
       "    <tr style=\"text-align: right;\">\n",
       "      <th></th>\n",
       "      <th>col_0</th>\n",
       "      <th>col_1</th>\n",
       "      <th>col_2</th>\n",
       "      <th>col_3</th>\n",
       "      <th>col_4</th>\n",
       "      <th>col_5</th>\n",
       "    </tr>\n",
       "  </thead>\n",
       "  <tbody>\n",
       "    <tr>\n",
       "      <th>P</th>\n",
       "      <td>77.0</td>\n",
       "      <td>75.0</td>\n",
       "      <td>57.0</td>\n",
       "      <td>42.548682</td>\n",
       "      <td>41.804071</td>\n",
       "      <td>41.178063</td>\n",
       "    </tr>\n",
       "    <tr>\n",
       "      <th>Q</th>\n",
       "      <td>27.0</td>\n",
       "      <td>89.0</td>\n",
       "      <td>96.0</td>\n",
       "      <td>59.582415</td>\n",
       "      <td>50.155665</td>\n",
       "      <td>50.945162</td>\n",
       "    </tr>\n",
       "    <tr>\n",
       "      <th>R</th>\n",
       "      <td>24.0</td>\n",
       "      <td>29.0</td>\n",
       "      <td>77.0</td>\n",
       "      <td>41.466910</td>\n",
       "      <td>58.819776</td>\n",
       "      <td>53.978345</td>\n",
       "    </tr>\n",
       "    <tr>\n",
       "      <th>S</th>\n",
       "      <td>55.0</td>\n",
       "      <td>50.0</td>\n",
       "      <td>75.0</td>\n",
       "      <td>51.766061</td>\n",
       "      <td>56.614613</td>\n",
       "      <td>43.189654</td>\n",
       "    </tr>\n",
       "  </tbody>\n",
       "</table>\n",
       "</div>"
      ],
      "text/plain": [
       "   col_0  col_1  col_2      col_3      col_4      col_5\n",
       "P   77.0   75.0   57.0  42.548682  41.804071  41.178063\n",
       "Q   27.0   89.0   96.0  59.582415  50.155665  50.945162\n",
       "R   24.0   29.0   77.0  41.466910  58.819776  53.978345\n",
       "S   55.0   50.0   75.0  51.766061  56.614613  43.189654"
      ]
     },
     "execution_count": 23,
     "metadata": {},
     "output_type": "execute_result"
    }
   ],
   "source": [
    "# 実行して表示\n",
    "df1"
   ]
  },
  {
   "cell_type": "markdown",
   "metadata": {},
   "source": [
    "Exercise_6: 下記 df2 を df1 と index方向へ結合してください（df）。また、column方向へ結合した場合も確認してください（実行するだけです）。"
   ]
  },
  {
   "cell_type": "code",
   "execution_count": 24,
   "metadata": {},
   "outputs": [
    {
     "data": {
      "text/html": [
       "<div>\n",
       "<style scoped>\n",
       "    .dataframe tbody tr th:only-of-type {\n",
       "        vertical-align: middle;\n",
       "    }\n",
       "\n",
       "    .dataframe tbody tr th {\n",
       "        vertical-align: top;\n",
       "    }\n",
       "\n",
       "    .dataframe thead th {\n",
       "        text-align: right;\n",
       "    }\n",
       "</style>\n",
       "<table border=\"1\" class=\"dataframe\">\n",
       "  <thead>\n",
       "    <tr style=\"text-align: right;\">\n",
       "      <th></th>\n",
       "      <th>col_0</th>\n",
       "      <th>col_1</th>\n",
       "      <th>col_2</th>\n",
       "      <th>col_3</th>\n",
       "      <th>col_4</th>\n",
       "      <th>col_5</th>\n",
       "    </tr>\n",
       "  </thead>\n",
       "  <tbody>\n",
       "    <tr>\n",
       "      <th>A</th>\n",
       "      <td>0</td>\n",
       "      <td>1</td>\n",
       "      <td>2</td>\n",
       "      <td>3</td>\n",
       "      <td>4</td>\n",
       "      <td>5</td>\n",
       "    </tr>\n",
       "    <tr>\n",
       "      <th>B</th>\n",
       "      <td>6</td>\n",
       "      <td>7</td>\n",
       "      <td>8</td>\n",
       "      <td>9</td>\n",
       "      <td>10</td>\n",
       "      <td>11</td>\n",
       "    </tr>\n",
       "    <tr>\n",
       "      <th>C</th>\n",
       "      <td>12</td>\n",
       "      <td>13</td>\n",
       "      <td>14</td>\n",
       "      <td>15</td>\n",
       "      <td>16</td>\n",
       "      <td>17</td>\n",
       "    </tr>\n",
       "    <tr>\n",
       "      <th>D</th>\n",
       "      <td>18</td>\n",
       "      <td>19</td>\n",
       "      <td>20</td>\n",
       "      <td>21</td>\n",
       "      <td>22</td>\n",
       "      <td>23</td>\n",
       "    </tr>\n",
       "  </tbody>\n",
       "</table>\n",
       "</div>"
      ],
      "text/plain": [
       "   col_0  col_1  col_2  col_3  col_4  col_5\n",
       "A      0      1      2      3      4      5\n",
       "B      6      7      8      9     10     11\n",
       "C     12     13     14     15     16     17\n",
       "D     18     19     20     21     22     23"
      ]
     },
     "execution_count": 24,
     "metadata": {},
     "output_type": "execute_result"
    }
   ],
   "source": [
    "# 実行して表示\n",
    "arr = np.array(np.arange(24)).reshape(4, 6)\n",
    "df2 = pd.DataFrame(arr, index=list('ABCD'), columns=['col_0', 'col_1', 'col_2', 'col_3', 'col_4', 'col_5'])   # column名は同じ\n",
    "df2"
   ]
  },
  {
   "cell_type": "code",
   "execution_count": 25,
   "metadata": {},
   "outputs": [],
   "source": [
    "df = pd.concat([df1, df2], axis=0)"
   ]
  },
  {
   "cell_type": "markdown",
   "metadata": {},
   "source": [
    "<details>\n",
    "    <summary><font color='red'>解答はここをクリック</font></summary>\n",
    "    <code>df = pd.concat([df1, df2], axis=0)</code>\n",
    "</details>"
   ]
  },
  {
   "cell_type": "code",
   "execution_count": 26,
   "metadata": {},
   "outputs": [
    {
     "data": {
      "text/html": [
       "<div>\n",
       "<style scoped>\n",
       "    .dataframe tbody tr th:only-of-type {\n",
       "        vertical-align: middle;\n",
       "    }\n",
       "\n",
       "    .dataframe tbody tr th {\n",
       "        vertical-align: top;\n",
       "    }\n",
       "\n",
       "    .dataframe thead th {\n",
       "        text-align: right;\n",
       "    }\n",
       "</style>\n",
       "<table border=\"1\" class=\"dataframe\">\n",
       "  <thead>\n",
       "    <tr style=\"text-align: right;\">\n",
       "      <th></th>\n",
       "      <th>col_0</th>\n",
       "      <th>col_1</th>\n",
       "      <th>col_2</th>\n",
       "      <th>col_3</th>\n",
       "      <th>col_4</th>\n",
       "      <th>col_5</th>\n",
       "    </tr>\n",
       "  </thead>\n",
       "  <tbody>\n",
       "    <tr>\n",
       "      <th>P</th>\n",
       "      <td>77.0</td>\n",
       "      <td>75.0</td>\n",
       "      <td>57.0</td>\n",
       "      <td>42.548682</td>\n",
       "      <td>41.804071</td>\n",
       "      <td>41.178063</td>\n",
       "    </tr>\n",
       "    <tr>\n",
       "      <th>Q</th>\n",
       "      <td>27.0</td>\n",
       "      <td>89.0</td>\n",
       "      <td>96.0</td>\n",
       "      <td>59.582415</td>\n",
       "      <td>50.155665</td>\n",
       "      <td>50.945162</td>\n",
       "    </tr>\n",
       "    <tr>\n",
       "      <th>R</th>\n",
       "      <td>24.0</td>\n",
       "      <td>29.0</td>\n",
       "      <td>77.0</td>\n",
       "      <td>41.466910</td>\n",
       "      <td>58.819776</td>\n",
       "      <td>53.978345</td>\n",
       "    </tr>\n",
       "    <tr>\n",
       "      <th>S</th>\n",
       "      <td>55.0</td>\n",
       "      <td>50.0</td>\n",
       "      <td>75.0</td>\n",
       "      <td>51.766061</td>\n",
       "      <td>56.614613</td>\n",
       "      <td>43.189654</td>\n",
       "    </tr>\n",
       "    <tr>\n",
       "      <th>A</th>\n",
       "      <td>0.0</td>\n",
       "      <td>1.0</td>\n",
       "      <td>2.0</td>\n",
       "      <td>3.000000</td>\n",
       "      <td>4.000000</td>\n",
       "      <td>5.000000</td>\n",
       "    </tr>\n",
       "    <tr>\n",
       "      <th>B</th>\n",
       "      <td>6.0</td>\n",
       "      <td>7.0</td>\n",
       "      <td>8.0</td>\n",
       "      <td>9.000000</td>\n",
       "      <td>10.000000</td>\n",
       "      <td>11.000000</td>\n",
       "    </tr>\n",
       "    <tr>\n",
       "      <th>C</th>\n",
       "      <td>12.0</td>\n",
       "      <td>13.0</td>\n",
       "      <td>14.0</td>\n",
       "      <td>15.000000</td>\n",
       "      <td>16.000000</td>\n",
       "      <td>17.000000</td>\n",
       "    </tr>\n",
       "    <tr>\n",
       "      <th>D</th>\n",
       "      <td>18.0</td>\n",
       "      <td>19.0</td>\n",
       "      <td>20.0</td>\n",
       "      <td>21.000000</td>\n",
       "      <td>22.000000</td>\n",
       "      <td>23.000000</td>\n",
       "    </tr>\n",
       "  </tbody>\n",
       "</table>\n",
       "</div>"
      ],
      "text/plain": [
       "   col_0  col_1  col_2      col_3      col_4      col_5\n",
       "P   77.0   75.0   57.0  42.548682  41.804071  41.178063\n",
       "Q   27.0   89.0   96.0  59.582415  50.155665  50.945162\n",
       "R   24.0   29.0   77.0  41.466910  58.819776  53.978345\n",
       "S   55.0   50.0   75.0  51.766061  56.614613  43.189654\n",
       "A    0.0    1.0    2.0   3.000000   4.000000   5.000000\n",
       "B    6.0    7.0    8.0   9.000000  10.000000  11.000000\n",
       "C   12.0   13.0   14.0  15.000000  16.000000  17.000000\n",
       "D   18.0   19.0   20.0  21.000000  22.000000  23.000000"
      ]
     },
     "execution_count": 26,
     "metadata": {},
     "output_type": "execute_result"
    }
   ],
   "source": [
    "# 実行して表示\n",
    "df"
   ]
  },
  {
   "cell_type": "code",
   "execution_count": 27,
   "metadata": {},
   "outputs": [
    {
     "data": {
      "text/html": [
       "<div>\n",
       "<style scoped>\n",
       "    .dataframe tbody tr th:only-of-type {\n",
       "        vertical-align: middle;\n",
       "    }\n",
       "\n",
       "    .dataframe tbody tr th {\n",
       "        vertical-align: top;\n",
       "    }\n",
       "\n",
       "    .dataframe thead th {\n",
       "        text-align: right;\n",
       "    }\n",
       "</style>\n",
       "<table border=\"1\" class=\"dataframe\">\n",
       "  <thead>\n",
       "    <tr style=\"text-align: right;\">\n",
       "      <th></th>\n",
       "      <th>col_0</th>\n",
       "      <th>col_1</th>\n",
       "      <th>col_2</th>\n",
       "      <th>col_3</th>\n",
       "      <th>col_4</th>\n",
       "      <th>col_5</th>\n",
       "      <th>col_0</th>\n",
       "      <th>col_1</th>\n",
       "      <th>col_2</th>\n",
       "      <th>col_3</th>\n",
       "      <th>col_4</th>\n",
       "      <th>col_5</th>\n",
       "    </tr>\n",
       "  </thead>\n",
       "  <tbody>\n",
       "    <tr>\n",
       "      <th>P</th>\n",
       "      <td>77.0</td>\n",
       "      <td>75.0</td>\n",
       "      <td>57.0</td>\n",
       "      <td>42.548682</td>\n",
       "      <td>41.804071</td>\n",
       "      <td>41.178063</td>\n",
       "      <td>NaN</td>\n",
       "      <td>NaN</td>\n",
       "      <td>NaN</td>\n",
       "      <td>NaN</td>\n",
       "      <td>NaN</td>\n",
       "      <td>NaN</td>\n",
       "    </tr>\n",
       "    <tr>\n",
       "      <th>Q</th>\n",
       "      <td>27.0</td>\n",
       "      <td>89.0</td>\n",
       "      <td>96.0</td>\n",
       "      <td>59.582415</td>\n",
       "      <td>50.155665</td>\n",
       "      <td>50.945162</td>\n",
       "      <td>NaN</td>\n",
       "      <td>NaN</td>\n",
       "      <td>NaN</td>\n",
       "      <td>NaN</td>\n",
       "      <td>NaN</td>\n",
       "      <td>NaN</td>\n",
       "    </tr>\n",
       "    <tr>\n",
       "      <th>R</th>\n",
       "      <td>24.0</td>\n",
       "      <td>29.0</td>\n",
       "      <td>77.0</td>\n",
       "      <td>41.466910</td>\n",
       "      <td>58.819776</td>\n",
       "      <td>53.978345</td>\n",
       "      <td>NaN</td>\n",
       "      <td>NaN</td>\n",
       "      <td>NaN</td>\n",
       "      <td>NaN</td>\n",
       "      <td>NaN</td>\n",
       "      <td>NaN</td>\n",
       "    </tr>\n",
       "    <tr>\n",
       "      <th>S</th>\n",
       "      <td>55.0</td>\n",
       "      <td>50.0</td>\n",
       "      <td>75.0</td>\n",
       "      <td>51.766061</td>\n",
       "      <td>56.614613</td>\n",
       "      <td>43.189654</td>\n",
       "      <td>NaN</td>\n",
       "      <td>NaN</td>\n",
       "      <td>NaN</td>\n",
       "      <td>NaN</td>\n",
       "      <td>NaN</td>\n",
       "      <td>NaN</td>\n",
       "    </tr>\n",
       "    <tr>\n",
       "      <th>A</th>\n",
       "      <td>NaN</td>\n",
       "      <td>NaN</td>\n",
       "      <td>NaN</td>\n",
       "      <td>NaN</td>\n",
       "      <td>NaN</td>\n",
       "      <td>NaN</td>\n",
       "      <td>0.0</td>\n",
       "      <td>1.0</td>\n",
       "      <td>2.0</td>\n",
       "      <td>3.0</td>\n",
       "      <td>4.0</td>\n",
       "      <td>5.0</td>\n",
       "    </tr>\n",
       "    <tr>\n",
       "      <th>B</th>\n",
       "      <td>NaN</td>\n",
       "      <td>NaN</td>\n",
       "      <td>NaN</td>\n",
       "      <td>NaN</td>\n",
       "      <td>NaN</td>\n",
       "      <td>NaN</td>\n",
       "      <td>6.0</td>\n",
       "      <td>7.0</td>\n",
       "      <td>8.0</td>\n",
       "      <td>9.0</td>\n",
       "      <td>10.0</td>\n",
       "      <td>11.0</td>\n",
       "    </tr>\n",
       "    <tr>\n",
       "      <th>C</th>\n",
       "      <td>NaN</td>\n",
       "      <td>NaN</td>\n",
       "      <td>NaN</td>\n",
       "      <td>NaN</td>\n",
       "      <td>NaN</td>\n",
       "      <td>NaN</td>\n",
       "      <td>12.0</td>\n",
       "      <td>13.0</td>\n",
       "      <td>14.0</td>\n",
       "      <td>15.0</td>\n",
       "      <td>16.0</td>\n",
       "      <td>17.0</td>\n",
       "    </tr>\n",
       "    <tr>\n",
       "      <th>D</th>\n",
       "      <td>NaN</td>\n",
       "      <td>NaN</td>\n",
       "      <td>NaN</td>\n",
       "      <td>NaN</td>\n",
       "      <td>NaN</td>\n",
       "      <td>NaN</td>\n",
       "      <td>18.0</td>\n",
       "      <td>19.0</td>\n",
       "      <td>20.0</td>\n",
       "      <td>21.0</td>\n",
       "      <td>22.0</td>\n",
       "      <td>23.0</td>\n",
       "    </tr>\n",
       "  </tbody>\n",
       "</table>\n",
       "</div>"
      ],
      "text/plain": [
       "   col_0  col_1  col_2      col_3      col_4      col_5  col_0  col_1  col_2  \\\n",
       "P   77.0   75.0   57.0  42.548682  41.804071  41.178063    NaN    NaN    NaN   \n",
       "Q   27.0   89.0   96.0  59.582415  50.155665  50.945162    NaN    NaN    NaN   \n",
       "R   24.0   29.0   77.0  41.466910  58.819776  53.978345    NaN    NaN    NaN   \n",
       "S   55.0   50.0   75.0  51.766061  56.614613  43.189654    NaN    NaN    NaN   \n",
       "A    NaN    NaN    NaN        NaN        NaN        NaN    0.0    1.0    2.0   \n",
       "B    NaN    NaN    NaN        NaN        NaN        NaN    6.0    7.0    8.0   \n",
       "C    NaN    NaN    NaN        NaN        NaN        NaN   12.0   13.0   14.0   \n",
       "D    NaN    NaN    NaN        NaN        NaN        NaN   18.0   19.0   20.0   \n",
       "\n",
       "   col_3  col_4  col_5  \n",
       "P    NaN    NaN    NaN  \n",
       "Q    NaN    NaN    NaN  \n",
       "R    NaN    NaN    NaN  \n",
       "S    NaN    NaN    NaN  \n",
       "A    3.0    4.0    5.0  \n",
       "B    9.0   10.0   11.0  \n",
       "C   15.0   16.0   17.0  \n",
       "D   21.0   22.0   23.0  "
      ]
     },
     "execution_count": 27,
     "metadata": {},
     "output_type": "execute_result"
    }
   ],
   "source": [
    "# 実行して表示\n",
    "pd.concat([df1, df2], axis=1)"
   ]
  },
  {
   "cell_type": "markdown",
   "metadata": {},
   "source": [
    "Exercise_7: exercise_2のarr_intとarr_uniをnp.concatenateとは別のメソッドで縦方向、横方向に結合してください。"
   ]
  },
  {
   "cell_type": "code",
   "execution_count": 29,
   "metadata": {},
   "outputs": [],
   "source": [
    "# 縦方向\n",
    "arr_v = np.vstack([arr_int, arr_uni])"
   ]
  },
  {
   "cell_type": "markdown",
   "metadata": {},
   "source": [
    "<details>\n",
    "    <summary><font color='red'>解答はここをクリック</font></summary>\n",
    "    <code>arr_v = np.vstack([arr_int, arr_uni])</code>\n",
    "</details>"
   ]
  },
  {
   "cell_type": "code",
   "execution_count": 30,
   "metadata": {},
   "outputs": [
    {
     "data": {
      "text/plain": [
       "array([[77.        , 75.        , 57.        ],\n",
       "       [27.        , 89.        , 96.        ],\n",
       "       [24.        , 29.        , 77.        ],\n",
       "       [55.        , 50.        , 75.        ],\n",
       "       [42.54868203, 41.80407075, 41.17806326],\n",
       "       [59.58241472, 50.15566526, 50.94516234],\n",
       "       [41.46690969, 58.81977636, 53.9783446 ],\n",
       "       [51.76606126, 56.614613  , 43.18965425]])"
      ]
     },
     "execution_count": 30,
     "metadata": {},
     "output_type": "execute_result"
    }
   ],
   "source": [
    "# 実行して表示\n",
    "arr_v"
   ]
  },
  {
   "cell_type": "code",
   "execution_count": 31,
   "metadata": {},
   "outputs": [],
   "source": [
    "# 横方向\n",
    "arr_h = np.hstack([arr_int, arr_uni])"
   ]
  },
  {
   "cell_type": "markdown",
   "metadata": {},
   "source": [
    "<details>\n",
    "    <summary><font color='red'>解答はここをクリック</font></summary>\n",
    "    <code>arr_h = np.hstack([arr_int, arr_uni])</code>\n",
    "</details>"
   ]
  },
  {
   "cell_type": "code",
   "execution_count": 32,
   "metadata": {},
   "outputs": [
    {
     "data": {
      "text/plain": [
       "array([[77.        , 75.        , 57.        , 42.54868203, 41.80407075,\n",
       "        41.17806326],\n",
       "       [27.        , 89.        , 96.        , 59.58241472, 50.15566526,\n",
       "        50.94516234],\n",
       "       [24.        , 29.        , 77.        , 41.46690969, 58.81977636,\n",
       "        53.9783446 ],\n",
       "       [55.        , 50.        , 75.        , 51.76606126, 56.614613  ,\n",
       "        43.18965425]])"
      ]
     },
     "execution_count": 32,
     "metadata": {},
     "output_type": "execute_result"
    }
   ],
   "source": [
    "# 実行して表示\n",
    "arr_h"
   ]
  },
  {
   "cell_type": "markdown",
   "metadata": {},
   "source": [
    "Exercise_8 : df の index count, column, non-null count, dtype などのInformation一覧を表示してください"
   ]
  },
  {
   "cell_type": "code",
   "execution_count": 33,
   "metadata": {},
   "outputs": [
    {
     "name": "stdout",
     "output_type": "stream",
     "text": [
      "<class 'pandas.core.frame.DataFrame'>\n",
      "Index: 8 entries, P to D\n",
      "Data columns (total 6 columns):\n",
      " #   Column  Non-Null Count  Dtype  \n",
      "---  ------  --------------  -----  \n",
      " 0   col_0   8 non-null      float64\n",
      " 1   col_1   8 non-null      float64\n",
      " 2   col_2   8 non-null      float64\n",
      " 3   col_3   8 non-null      float64\n",
      " 4   col_4   8 non-null      float64\n",
      " 5   col_5   8 non-null      float64\n",
      "dtypes: float64(6)\n",
      "memory usage: 448.0+ bytes\n"
     ]
    }
   ],
   "source": [
    "df.info()"
   ]
  },
  {
   "cell_type": "markdown",
   "metadata": {},
   "source": [
    "<details>\n",
    "    <summary><font color='red'>解答はここをクリック</font></summary>\n",
    "    <code>df.info()</code>\n",
    "</details>"
   ]
  },
  {
   "cell_type": "markdown",
   "metadata": {},
   "source": [
    "Exercise_9: dfの列毎の数値の合計、行毎の数値の合計を表示してください"
   ]
  },
  {
   "cell_type": "code",
   "execution_count": 37,
   "metadata": {},
   "outputs": [
    {
     "data": {
      "text/plain": [
       "col_0    219.000000\n",
       "col_1    283.000000\n",
       "col_2    349.000000\n",
       "col_3    243.364068\n",
       "col_4    259.394125\n",
       "col_5    245.291224\n",
       "dtype: float64"
      ]
     },
     "execution_count": 37,
     "metadata": {},
     "output_type": "execute_result"
    }
   ],
   "source": [
    "# 列\n",
    "df.sum()\n"
   ]
  },
  {
   "cell_type": "markdown",
   "metadata": {},
   "source": [
    "<details>\n",
    "    <summary><font color='red'>解答はここをクリック</font></summary>\n",
    "    <code>df.sum()</code>\n",
    "</details>"
   ]
  },
  {
   "cell_type": "code",
   "execution_count": 36,
   "metadata": {},
   "outputs": [
    {
     "data": {
      "text/plain": [
       "P    334.530816\n",
       "Q    372.683242\n",
       "R    284.265031\n",
       "S    331.570329\n",
       "A     15.000000\n",
       "B     51.000000\n",
       "C     87.000000\n",
       "D    123.000000\n",
       "dtype: float64"
      ]
     },
     "execution_count": 36,
     "metadata": {},
     "output_type": "execute_result"
    }
   ],
   "source": [
    "# 行\n",
    "df.sum(axis=1)\n"
   ]
  },
  {
   "cell_type": "markdown",
   "metadata": {},
   "source": [
    "<details>\n",
    "    <summary><font color='red'>解答はここをクリック</font></summary>\n",
    "    <code>df.sum(axis=1)</code>\n",
    "</details>"
   ]
  },
  {
   "cell_type": "markdown",
   "metadata": {},
   "source": [
    "Exercise_10: dfの先頭3行を表示してください。またdfをシャッフルし（df_shuffled）、その末尾の3行を表示してください。"
   ]
  },
  {
   "cell_type": "code",
   "execution_count": 38,
   "metadata": {},
   "outputs": [
    {
     "data": {
      "text/html": [
       "<div>\n",
       "<style scoped>\n",
       "    .dataframe tbody tr th:only-of-type {\n",
       "        vertical-align: middle;\n",
       "    }\n",
       "\n",
       "    .dataframe tbody tr th {\n",
       "        vertical-align: top;\n",
       "    }\n",
       "\n",
       "    .dataframe thead th {\n",
       "        text-align: right;\n",
       "    }\n",
       "</style>\n",
       "<table border=\"1\" class=\"dataframe\">\n",
       "  <thead>\n",
       "    <tr style=\"text-align: right;\">\n",
       "      <th></th>\n",
       "      <th>col_0</th>\n",
       "      <th>col_1</th>\n",
       "      <th>col_2</th>\n",
       "      <th>col_3</th>\n",
       "      <th>col_4</th>\n",
       "      <th>col_5</th>\n",
       "    </tr>\n",
       "  </thead>\n",
       "  <tbody>\n",
       "    <tr>\n",
       "      <th>P</th>\n",
       "      <td>77.0</td>\n",
       "      <td>75.0</td>\n",
       "      <td>57.0</td>\n",
       "      <td>42.548682</td>\n",
       "      <td>41.804071</td>\n",
       "      <td>41.178063</td>\n",
       "    </tr>\n",
       "    <tr>\n",
       "      <th>Q</th>\n",
       "      <td>27.0</td>\n",
       "      <td>89.0</td>\n",
       "      <td>96.0</td>\n",
       "      <td>59.582415</td>\n",
       "      <td>50.155665</td>\n",
       "      <td>50.945162</td>\n",
       "    </tr>\n",
       "    <tr>\n",
       "      <th>R</th>\n",
       "      <td>24.0</td>\n",
       "      <td>29.0</td>\n",
       "      <td>77.0</td>\n",
       "      <td>41.466910</td>\n",
       "      <td>58.819776</td>\n",
       "      <td>53.978345</td>\n",
       "    </tr>\n",
       "  </tbody>\n",
       "</table>\n",
       "</div>"
      ],
      "text/plain": [
       "   col_0  col_1  col_2      col_3      col_4      col_5\n",
       "P   77.0   75.0   57.0  42.548682  41.804071  41.178063\n",
       "Q   27.0   89.0   96.0  59.582415  50.155665  50.945162\n",
       "R   24.0   29.0   77.0  41.466910  58.819776  53.978345"
      ]
     },
     "execution_count": 38,
     "metadata": {},
     "output_type": "execute_result"
    }
   ],
   "source": [
    "# 先頭3行\n",
    "df.head(3)"
   ]
  },
  {
   "cell_type": "markdown",
   "metadata": {},
   "source": [
    "<details>\n",
    "    <summary><font color='red'>解答はここをクリック</font></summary>\n",
    "    <code>df.head(3)</code>\n",
    "</details>"
   ]
  },
  {
   "cell_type": "code",
   "execution_count": 39,
   "metadata": {},
   "outputs": [],
   "source": [
    "df_shuffled = df.sample(frac=1)"
   ]
  },
  {
   "cell_type": "markdown",
   "metadata": {},
   "source": [
    "<details>\n",
    "    <summary><font color='red'>解答はここをクリック</font></summary>\n",
    "    <code>df_shuffled = df.sample(frac=1)</code>\n",
    "</details>"
   ]
  },
  {
   "cell_type": "code",
   "execution_count": 40,
   "metadata": {},
   "outputs": [
    {
     "data": {
      "text/html": [
       "<div>\n",
       "<style scoped>\n",
       "    .dataframe tbody tr th:only-of-type {\n",
       "        vertical-align: middle;\n",
       "    }\n",
       "\n",
       "    .dataframe tbody tr th {\n",
       "        vertical-align: top;\n",
       "    }\n",
       "\n",
       "    .dataframe thead th {\n",
       "        text-align: right;\n",
       "    }\n",
       "</style>\n",
       "<table border=\"1\" class=\"dataframe\">\n",
       "  <thead>\n",
       "    <tr style=\"text-align: right;\">\n",
       "      <th></th>\n",
       "      <th>col_0</th>\n",
       "      <th>col_1</th>\n",
       "      <th>col_2</th>\n",
       "      <th>col_3</th>\n",
       "      <th>col_4</th>\n",
       "      <th>col_5</th>\n",
       "    </tr>\n",
       "  </thead>\n",
       "  <tbody>\n",
       "    <tr>\n",
       "      <th>S</th>\n",
       "      <td>55.0</td>\n",
       "      <td>50.0</td>\n",
       "      <td>75.0</td>\n",
       "      <td>51.766061</td>\n",
       "      <td>56.614613</td>\n",
       "      <td>43.189654</td>\n",
       "    </tr>\n",
       "    <tr>\n",
       "      <th>B</th>\n",
       "      <td>6.0</td>\n",
       "      <td>7.0</td>\n",
       "      <td>8.0</td>\n",
       "      <td>9.000000</td>\n",
       "      <td>10.000000</td>\n",
       "      <td>11.000000</td>\n",
       "    </tr>\n",
       "    <tr>\n",
       "      <th>P</th>\n",
       "      <td>77.0</td>\n",
       "      <td>75.0</td>\n",
       "      <td>57.0</td>\n",
       "      <td>42.548682</td>\n",
       "      <td>41.804071</td>\n",
       "      <td>41.178063</td>\n",
       "    </tr>\n",
       "  </tbody>\n",
       "</table>\n",
       "</div>"
      ],
      "text/plain": [
       "   col_0  col_1  col_2      col_3      col_4      col_5\n",
       "S   55.0   50.0   75.0  51.766061  56.614613  43.189654\n",
       "B    6.0    7.0    8.0   9.000000  10.000000  11.000000\n",
       "P   77.0   75.0   57.0  42.548682  41.804071  41.178063"
      ]
     },
     "execution_count": 40,
     "metadata": {},
     "output_type": "execute_result"
    }
   ],
   "source": [
    "df_shuffled.tail(3)"
   ]
  },
  {
   "cell_type": "markdown",
   "metadata": {},
   "source": [
    "<details>\n",
    "    <summary><font color='red'>解答はここをクリック</font></summary>\n",
    "    <code>df_shuffled.tail(3)</code>\n",
    "</details>"
   ]
  },
  {
   "cell_type": "markdown",
   "metadata": {},
   "source": [
    "Exercise_11 : df を 現在の index(A, B, ..., S) に対して降順に並べ替え（df.sort_index(inplace=True)）、index をリセットし0,1,2の通し番号に戻してくだださい。さらに新規にできるカラム'index' を 'class' に変更してください。"
   ]
  },
  {
   "cell_type": "code",
   "execution_count": 41,
   "metadata": {},
   "outputs": [
    {
     "data": {
      "text/html": [
       "<div>\n",
       "<style scoped>\n",
       "    .dataframe tbody tr th:only-of-type {\n",
       "        vertical-align: middle;\n",
       "    }\n",
       "\n",
       "    .dataframe tbody tr th {\n",
       "        vertical-align: top;\n",
       "    }\n",
       "\n",
       "    .dataframe thead th {\n",
       "        text-align: right;\n",
       "    }\n",
       "</style>\n",
       "<table border=\"1\" class=\"dataframe\">\n",
       "  <thead>\n",
       "    <tr style=\"text-align: right;\">\n",
       "      <th></th>\n",
       "      <th>col_0</th>\n",
       "      <th>col_1</th>\n",
       "      <th>col_2</th>\n",
       "      <th>col_3</th>\n",
       "      <th>col_4</th>\n",
       "      <th>col_5</th>\n",
       "    </tr>\n",
       "  </thead>\n",
       "  <tbody>\n",
       "    <tr>\n",
       "      <th>P</th>\n",
       "      <td>77.0</td>\n",
       "      <td>75.0</td>\n",
       "      <td>57.0</td>\n",
       "      <td>42.548682</td>\n",
       "      <td>41.804071</td>\n",
       "      <td>41.178063</td>\n",
       "    </tr>\n",
       "    <tr>\n",
       "      <th>Q</th>\n",
       "      <td>27.0</td>\n",
       "      <td>89.0</td>\n",
       "      <td>96.0</td>\n",
       "      <td>59.582415</td>\n",
       "      <td>50.155665</td>\n",
       "      <td>50.945162</td>\n",
       "    </tr>\n",
       "    <tr>\n",
       "      <th>R</th>\n",
       "      <td>24.0</td>\n",
       "      <td>29.0</td>\n",
       "      <td>77.0</td>\n",
       "      <td>41.466910</td>\n",
       "      <td>58.819776</td>\n",
       "      <td>53.978345</td>\n",
       "    </tr>\n",
       "    <tr>\n",
       "      <th>S</th>\n",
       "      <td>55.0</td>\n",
       "      <td>50.0</td>\n",
       "      <td>75.0</td>\n",
       "      <td>51.766061</td>\n",
       "      <td>56.614613</td>\n",
       "      <td>43.189654</td>\n",
       "    </tr>\n",
       "    <tr>\n",
       "      <th>A</th>\n",
       "      <td>0.0</td>\n",
       "      <td>1.0</td>\n",
       "      <td>2.0</td>\n",
       "      <td>3.000000</td>\n",
       "      <td>4.000000</td>\n",
       "      <td>5.000000</td>\n",
       "    </tr>\n",
       "    <tr>\n",
       "      <th>B</th>\n",
       "      <td>6.0</td>\n",
       "      <td>7.0</td>\n",
       "      <td>8.0</td>\n",
       "      <td>9.000000</td>\n",
       "      <td>10.000000</td>\n",
       "      <td>11.000000</td>\n",
       "    </tr>\n",
       "    <tr>\n",
       "      <th>C</th>\n",
       "      <td>12.0</td>\n",
       "      <td>13.0</td>\n",
       "      <td>14.0</td>\n",
       "      <td>15.000000</td>\n",
       "      <td>16.000000</td>\n",
       "      <td>17.000000</td>\n",
       "    </tr>\n",
       "    <tr>\n",
       "      <th>D</th>\n",
       "      <td>18.0</td>\n",
       "      <td>19.0</td>\n",
       "      <td>20.0</td>\n",
       "      <td>21.000000</td>\n",
       "      <td>22.000000</td>\n",
       "      <td>23.000000</td>\n",
       "    </tr>\n",
       "  </tbody>\n",
       "</table>\n",
       "</div>"
      ],
      "text/plain": [
       "   col_0  col_1  col_2      col_3      col_4      col_5\n",
       "P   77.0   75.0   57.0  42.548682  41.804071  41.178063\n",
       "Q   27.0   89.0   96.0  59.582415  50.155665  50.945162\n",
       "R   24.0   29.0   77.0  41.466910  58.819776  53.978345\n",
       "S   55.0   50.0   75.0  51.766061  56.614613  43.189654\n",
       "A    0.0    1.0    2.0   3.000000   4.000000   5.000000\n",
       "B    6.0    7.0    8.0   9.000000  10.000000  11.000000\n",
       "C   12.0   13.0   14.0  15.000000  16.000000  17.000000\n",
       "D   18.0   19.0   20.0  21.000000  22.000000  23.000000"
      ]
     },
     "execution_count": 41,
     "metadata": {},
     "output_type": "execute_result"
    }
   ],
   "source": [
    "# 実行して表示\n",
    "df"
   ]
  },
  {
   "cell_type": "code",
   "execution_count": 43,
   "metadata": {},
   "outputs": [],
   "source": [
    "# 並べ替えのみ。（コース内での紹介はありませんでした）\n",
    "df.sort_index(inplace=True)"
   ]
  },
  {
   "cell_type": "markdown",
   "metadata": {},
   "source": [
    "<details>\n",
    "    <summary><font color='red'>解答はここをクリック</font></summary>\n",
    "    <code>df.sort_index(inplace=True)</code>\n",
    "</details>"
   ]
  },
  {
   "cell_type": "code",
   "execution_count": 44,
   "metadata": {},
   "outputs": [
    {
     "data": {
      "text/html": [
       "<div>\n",
       "<style scoped>\n",
       "    .dataframe tbody tr th:only-of-type {\n",
       "        vertical-align: middle;\n",
       "    }\n",
       "\n",
       "    .dataframe tbody tr th {\n",
       "        vertical-align: top;\n",
       "    }\n",
       "\n",
       "    .dataframe thead th {\n",
       "        text-align: right;\n",
       "    }\n",
       "</style>\n",
       "<table border=\"1\" class=\"dataframe\">\n",
       "  <thead>\n",
       "    <tr style=\"text-align: right;\">\n",
       "      <th></th>\n",
       "      <th>col_0</th>\n",
       "      <th>col_1</th>\n",
       "      <th>col_2</th>\n",
       "      <th>col_3</th>\n",
       "      <th>col_4</th>\n",
       "      <th>col_5</th>\n",
       "    </tr>\n",
       "  </thead>\n",
       "  <tbody>\n",
       "    <tr>\n",
       "      <th>A</th>\n",
       "      <td>0.0</td>\n",
       "      <td>1.0</td>\n",
       "      <td>2.0</td>\n",
       "      <td>3.000000</td>\n",
       "      <td>4.000000</td>\n",
       "      <td>5.000000</td>\n",
       "    </tr>\n",
       "    <tr>\n",
       "      <th>B</th>\n",
       "      <td>6.0</td>\n",
       "      <td>7.0</td>\n",
       "      <td>8.0</td>\n",
       "      <td>9.000000</td>\n",
       "      <td>10.000000</td>\n",
       "      <td>11.000000</td>\n",
       "    </tr>\n",
       "    <tr>\n",
       "      <th>C</th>\n",
       "      <td>12.0</td>\n",
       "      <td>13.0</td>\n",
       "      <td>14.0</td>\n",
       "      <td>15.000000</td>\n",
       "      <td>16.000000</td>\n",
       "      <td>17.000000</td>\n",
       "    </tr>\n",
       "    <tr>\n",
       "      <th>D</th>\n",
       "      <td>18.0</td>\n",
       "      <td>19.0</td>\n",
       "      <td>20.0</td>\n",
       "      <td>21.000000</td>\n",
       "      <td>22.000000</td>\n",
       "      <td>23.000000</td>\n",
       "    </tr>\n",
       "    <tr>\n",
       "      <th>P</th>\n",
       "      <td>77.0</td>\n",
       "      <td>75.0</td>\n",
       "      <td>57.0</td>\n",
       "      <td>42.548682</td>\n",
       "      <td>41.804071</td>\n",
       "      <td>41.178063</td>\n",
       "    </tr>\n",
       "    <tr>\n",
       "      <th>Q</th>\n",
       "      <td>27.0</td>\n",
       "      <td>89.0</td>\n",
       "      <td>96.0</td>\n",
       "      <td>59.582415</td>\n",
       "      <td>50.155665</td>\n",
       "      <td>50.945162</td>\n",
       "    </tr>\n",
       "    <tr>\n",
       "      <th>R</th>\n",
       "      <td>24.0</td>\n",
       "      <td>29.0</td>\n",
       "      <td>77.0</td>\n",
       "      <td>41.466910</td>\n",
       "      <td>58.819776</td>\n",
       "      <td>53.978345</td>\n",
       "    </tr>\n",
       "    <tr>\n",
       "      <th>S</th>\n",
       "      <td>55.0</td>\n",
       "      <td>50.0</td>\n",
       "      <td>75.0</td>\n",
       "      <td>51.766061</td>\n",
       "      <td>56.614613</td>\n",
       "      <td>43.189654</td>\n",
       "    </tr>\n",
       "  </tbody>\n",
       "</table>\n",
       "</div>"
      ],
      "text/plain": [
       "   col_0  col_1  col_2      col_3      col_4      col_5\n",
       "A    0.0    1.0    2.0   3.000000   4.000000   5.000000\n",
       "B    6.0    7.0    8.0   9.000000  10.000000  11.000000\n",
       "C   12.0   13.0   14.0  15.000000  16.000000  17.000000\n",
       "D   18.0   19.0   20.0  21.000000  22.000000  23.000000\n",
       "P   77.0   75.0   57.0  42.548682  41.804071  41.178063\n",
       "Q   27.0   89.0   96.0  59.582415  50.155665  50.945162\n",
       "R   24.0   29.0   77.0  41.466910  58.819776  53.978345\n",
       "S   55.0   50.0   75.0  51.766061  56.614613  43.189654"
      ]
     },
     "execution_count": 44,
     "metadata": {},
     "output_type": "execute_result"
    }
   ],
   "source": [
    "# 実行して表示\n",
    "df"
   ]
  },
  {
   "cell_type": "code",
   "execution_count": 45,
   "metadata": {},
   "outputs": [],
   "source": [
    "# indexをリセット\n",
    "df.reset_index(inplace=True)"
   ]
  },
  {
   "cell_type": "markdown",
   "metadata": {},
   "source": [
    "<details>\n",
    "    <summary><font color='red'>解答はここをクリック</font></summary>\n",
    "    <code>df.reset_index(inplace=True)</code>\n",
    "</details>"
   ]
  },
  {
   "cell_type": "code",
   "execution_count": 46,
   "metadata": {},
   "outputs": [
    {
     "data": {
      "text/html": [
       "<div>\n",
       "<style scoped>\n",
       "    .dataframe tbody tr th:only-of-type {\n",
       "        vertical-align: middle;\n",
       "    }\n",
       "\n",
       "    .dataframe tbody tr th {\n",
       "        vertical-align: top;\n",
       "    }\n",
       "\n",
       "    .dataframe thead th {\n",
       "        text-align: right;\n",
       "    }\n",
       "</style>\n",
       "<table border=\"1\" class=\"dataframe\">\n",
       "  <thead>\n",
       "    <tr style=\"text-align: right;\">\n",
       "      <th></th>\n",
       "      <th>index</th>\n",
       "      <th>col_0</th>\n",
       "      <th>col_1</th>\n",
       "      <th>col_2</th>\n",
       "      <th>col_3</th>\n",
       "      <th>col_4</th>\n",
       "      <th>col_5</th>\n",
       "    </tr>\n",
       "  </thead>\n",
       "  <tbody>\n",
       "    <tr>\n",
       "      <th>0</th>\n",
       "      <td>A</td>\n",
       "      <td>0.0</td>\n",
       "      <td>1.0</td>\n",
       "      <td>2.0</td>\n",
       "      <td>3.000000</td>\n",
       "      <td>4.000000</td>\n",
       "      <td>5.000000</td>\n",
       "    </tr>\n",
       "    <tr>\n",
       "      <th>1</th>\n",
       "      <td>B</td>\n",
       "      <td>6.0</td>\n",
       "      <td>7.0</td>\n",
       "      <td>8.0</td>\n",
       "      <td>9.000000</td>\n",
       "      <td>10.000000</td>\n",
       "      <td>11.000000</td>\n",
       "    </tr>\n",
       "    <tr>\n",
       "      <th>2</th>\n",
       "      <td>C</td>\n",
       "      <td>12.0</td>\n",
       "      <td>13.0</td>\n",
       "      <td>14.0</td>\n",
       "      <td>15.000000</td>\n",
       "      <td>16.000000</td>\n",
       "      <td>17.000000</td>\n",
       "    </tr>\n",
       "    <tr>\n",
       "      <th>3</th>\n",
       "      <td>D</td>\n",
       "      <td>18.0</td>\n",
       "      <td>19.0</td>\n",
       "      <td>20.0</td>\n",
       "      <td>21.000000</td>\n",
       "      <td>22.000000</td>\n",
       "      <td>23.000000</td>\n",
       "    </tr>\n",
       "    <tr>\n",
       "      <th>4</th>\n",
       "      <td>P</td>\n",
       "      <td>77.0</td>\n",
       "      <td>75.0</td>\n",
       "      <td>57.0</td>\n",
       "      <td>42.548682</td>\n",
       "      <td>41.804071</td>\n",
       "      <td>41.178063</td>\n",
       "    </tr>\n",
       "    <tr>\n",
       "      <th>5</th>\n",
       "      <td>Q</td>\n",
       "      <td>27.0</td>\n",
       "      <td>89.0</td>\n",
       "      <td>96.0</td>\n",
       "      <td>59.582415</td>\n",
       "      <td>50.155665</td>\n",
       "      <td>50.945162</td>\n",
       "    </tr>\n",
       "    <tr>\n",
       "      <th>6</th>\n",
       "      <td>R</td>\n",
       "      <td>24.0</td>\n",
       "      <td>29.0</td>\n",
       "      <td>77.0</td>\n",
       "      <td>41.466910</td>\n",
       "      <td>58.819776</td>\n",
       "      <td>53.978345</td>\n",
       "    </tr>\n",
       "    <tr>\n",
       "      <th>7</th>\n",
       "      <td>S</td>\n",
       "      <td>55.0</td>\n",
       "      <td>50.0</td>\n",
       "      <td>75.0</td>\n",
       "      <td>51.766061</td>\n",
       "      <td>56.614613</td>\n",
       "      <td>43.189654</td>\n",
       "    </tr>\n",
       "  </tbody>\n",
       "</table>\n",
       "</div>"
      ],
      "text/plain": [
       "  index  col_0  col_1  col_2      col_3      col_4      col_5\n",
       "0     A    0.0    1.0    2.0   3.000000   4.000000   5.000000\n",
       "1     B    6.0    7.0    8.0   9.000000  10.000000  11.000000\n",
       "2     C   12.0   13.0   14.0  15.000000  16.000000  17.000000\n",
       "3     D   18.0   19.0   20.0  21.000000  22.000000  23.000000\n",
       "4     P   77.0   75.0   57.0  42.548682  41.804071  41.178063\n",
       "5     Q   27.0   89.0   96.0  59.582415  50.155665  50.945162\n",
       "6     R   24.0   29.0   77.0  41.466910  58.819776  53.978345\n",
       "7     S   55.0   50.0   75.0  51.766061  56.614613  43.189654"
      ]
     },
     "execution_count": 46,
     "metadata": {},
     "output_type": "execute_result"
    }
   ],
   "source": [
    "# 実行して表示\n",
    "df"
   ]
  },
  {
   "cell_type": "code",
   "execution_count": 47,
   "metadata": {},
   "outputs": [],
   "source": [
    "# column名を変更\n",
    "df.rename(columns={\"index\":\"class\"}, inplace=True)\n"
   ]
  },
  {
   "cell_type": "markdown",
   "metadata": {},
   "source": [
    "<details>\n",
    "    <summary><font color='red'>解答はここをクリック</font></summary>\n",
    "    <code>df.rename(columns={'index':'class'}, inplace=True)</code>\n",
    "</details>"
   ]
  },
  {
   "cell_type": "code",
   "execution_count": 48,
   "metadata": {},
   "outputs": [
    {
     "data": {
      "text/html": [
       "<div>\n",
       "<style scoped>\n",
       "    .dataframe tbody tr th:only-of-type {\n",
       "        vertical-align: middle;\n",
       "    }\n",
       "\n",
       "    .dataframe tbody tr th {\n",
       "        vertical-align: top;\n",
       "    }\n",
       "\n",
       "    .dataframe thead th {\n",
       "        text-align: right;\n",
       "    }\n",
       "</style>\n",
       "<table border=\"1\" class=\"dataframe\">\n",
       "  <thead>\n",
       "    <tr style=\"text-align: right;\">\n",
       "      <th></th>\n",
       "      <th>class</th>\n",
       "      <th>col_0</th>\n",
       "      <th>col_1</th>\n",
       "      <th>col_2</th>\n",
       "      <th>col_3</th>\n",
       "      <th>col_4</th>\n",
       "      <th>col_5</th>\n",
       "    </tr>\n",
       "  </thead>\n",
       "  <tbody>\n",
       "    <tr>\n",
       "      <th>0</th>\n",
       "      <td>A</td>\n",
       "      <td>0.0</td>\n",
       "      <td>1.0</td>\n",
       "      <td>2.0</td>\n",
       "      <td>3.000000</td>\n",
       "      <td>4.000000</td>\n",
       "      <td>5.000000</td>\n",
       "    </tr>\n",
       "    <tr>\n",
       "      <th>1</th>\n",
       "      <td>B</td>\n",
       "      <td>6.0</td>\n",
       "      <td>7.0</td>\n",
       "      <td>8.0</td>\n",
       "      <td>9.000000</td>\n",
       "      <td>10.000000</td>\n",
       "      <td>11.000000</td>\n",
       "    </tr>\n",
       "    <tr>\n",
       "      <th>2</th>\n",
       "      <td>C</td>\n",
       "      <td>12.0</td>\n",
       "      <td>13.0</td>\n",
       "      <td>14.0</td>\n",
       "      <td>15.000000</td>\n",
       "      <td>16.000000</td>\n",
       "      <td>17.000000</td>\n",
       "    </tr>\n",
       "    <tr>\n",
       "      <th>3</th>\n",
       "      <td>D</td>\n",
       "      <td>18.0</td>\n",
       "      <td>19.0</td>\n",
       "      <td>20.0</td>\n",
       "      <td>21.000000</td>\n",
       "      <td>22.000000</td>\n",
       "      <td>23.000000</td>\n",
       "    </tr>\n",
       "    <tr>\n",
       "      <th>4</th>\n",
       "      <td>P</td>\n",
       "      <td>77.0</td>\n",
       "      <td>75.0</td>\n",
       "      <td>57.0</td>\n",
       "      <td>42.548682</td>\n",
       "      <td>41.804071</td>\n",
       "      <td>41.178063</td>\n",
       "    </tr>\n",
       "    <tr>\n",
       "      <th>5</th>\n",
       "      <td>Q</td>\n",
       "      <td>27.0</td>\n",
       "      <td>89.0</td>\n",
       "      <td>96.0</td>\n",
       "      <td>59.582415</td>\n",
       "      <td>50.155665</td>\n",
       "      <td>50.945162</td>\n",
       "    </tr>\n",
       "    <tr>\n",
       "      <th>6</th>\n",
       "      <td>R</td>\n",
       "      <td>24.0</td>\n",
       "      <td>29.0</td>\n",
       "      <td>77.0</td>\n",
       "      <td>41.466910</td>\n",
       "      <td>58.819776</td>\n",
       "      <td>53.978345</td>\n",
       "    </tr>\n",
       "    <tr>\n",
       "      <th>7</th>\n",
       "      <td>S</td>\n",
       "      <td>55.0</td>\n",
       "      <td>50.0</td>\n",
       "      <td>75.0</td>\n",
       "      <td>51.766061</td>\n",
       "      <td>56.614613</td>\n",
       "      <td>43.189654</td>\n",
       "    </tr>\n",
       "  </tbody>\n",
       "</table>\n",
       "</div>"
      ],
      "text/plain": [
       "  class  col_0  col_1  col_2      col_3      col_4      col_5\n",
       "0     A    0.0    1.0    2.0   3.000000   4.000000   5.000000\n",
       "1     B    6.0    7.0    8.0   9.000000  10.000000  11.000000\n",
       "2     C   12.0   13.0   14.0  15.000000  16.000000  17.000000\n",
       "3     D   18.0   19.0   20.0  21.000000  22.000000  23.000000\n",
       "4     P   77.0   75.0   57.0  42.548682  41.804071  41.178063\n",
       "5     Q   27.0   89.0   96.0  59.582415  50.155665  50.945162\n",
       "6     R   24.0   29.0   77.0  41.466910  58.819776  53.978345\n",
       "7     S   55.0   50.0   75.0  51.766061  56.614613  43.189654"
      ]
     },
     "execution_count": 48,
     "metadata": {},
     "output_type": "execute_result"
    }
   ],
   "source": [
    "# 実行して表示\n",
    "df"
   ]
  },
  {
   "cell_type": "markdown",
   "metadata": {},
   "source": [
    "Exercise_12 : dfの各カラム名の末尾に'*'の文字列を付加したデータフレーム（df_star）を作成してください"
   ]
  },
  {
   "cell_type": "code",
   "execution_count": 49,
   "metadata": {},
   "outputs": [],
   "source": [
    "df_star = df.add_suffix(\"*\")"
   ]
  },
  {
   "cell_type": "markdown",
   "metadata": {},
   "source": [
    "<details>\n",
    "    <summary><font color='red'>解答はここをクリック</font></summary>\n",
    "    <code>df_star = df.add_suffix('*')</code>\n",
    "</details>"
   ]
  },
  {
   "cell_type": "code",
   "execution_count": 50,
   "metadata": {},
   "outputs": [
    {
     "data": {
      "text/html": [
       "<div>\n",
       "<style scoped>\n",
       "    .dataframe tbody tr th:only-of-type {\n",
       "        vertical-align: middle;\n",
       "    }\n",
       "\n",
       "    .dataframe tbody tr th {\n",
       "        vertical-align: top;\n",
       "    }\n",
       "\n",
       "    .dataframe thead th {\n",
       "        text-align: right;\n",
       "    }\n",
       "</style>\n",
       "<table border=\"1\" class=\"dataframe\">\n",
       "  <thead>\n",
       "    <tr style=\"text-align: right;\">\n",
       "      <th></th>\n",
       "      <th>class*</th>\n",
       "      <th>col_0*</th>\n",
       "      <th>col_1*</th>\n",
       "      <th>col_2*</th>\n",
       "      <th>col_3*</th>\n",
       "      <th>col_4*</th>\n",
       "      <th>col_5*</th>\n",
       "    </tr>\n",
       "  </thead>\n",
       "  <tbody>\n",
       "    <tr>\n",
       "      <th>0</th>\n",
       "      <td>A</td>\n",
       "      <td>0.0</td>\n",
       "      <td>1.0</td>\n",
       "      <td>2.0</td>\n",
       "      <td>3.000000</td>\n",
       "      <td>4.000000</td>\n",
       "      <td>5.000000</td>\n",
       "    </tr>\n",
       "    <tr>\n",
       "      <th>1</th>\n",
       "      <td>B</td>\n",
       "      <td>6.0</td>\n",
       "      <td>7.0</td>\n",
       "      <td>8.0</td>\n",
       "      <td>9.000000</td>\n",
       "      <td>10.000000</td>\n",
       "      <td>11.000000</td>\n",
       "    </tr>\n",
       "    <tr>\n",
       "      <th>2</th>\n",
       "      <td>C</td>\n",
       "      <td>12.0</td>\n",
       "      <td>13.0</td>\n",
       "      <td>14.0</td>\n",
       "      <td>15.000000</td>\n",
       "      <td>16.000000</td>\n",
       "      <td>17.000000</td>\n",
       "    </tr>\n",
       "    <tr>\n",
       "      <th>3</th>\n",
       "      <td>D</td>\n",
       "      <td>18.0</td>\n",
       "      <td>19.0</td>\n",
       "      <td>20.0</td>\n",
       "      <td>21.000000</td>\n",
       "      <td>22.000000</td>\n",
       "      <td>23.000000</td>\n",
       "    </tr>\n",
       "    <tr>\n",
       "      <th>4</th>\n",
       "      <td>P</td>\n",
       "      <td>77.0</td>\n",
       "      <td>75.0</td>\n",
       "      <td>57.0</td>\n",
       "      <td>42.548682</td>\n",
       "      <td>41.804071</td>\n",
       "      <td>41.178063</td>\n",
       "    </tr>\n",
       "    <tr>\n",
       "      <th>5</th>\n",
       "      <td>Q</td>\n",
       "      <td>27.0</td>\n",
       "      <td>89.0</td>\n",
       "      <td>96.0</td>\n",
       "      <td>59.582415</td>\n",
       "      <td>50.155665</td>\n",
       "      <td>50.945162</td>\n",
       "    </tr>\n",
       "    <tr>\n",
       "      <th>6</th>\n",
       "      <td>R</td>\n",
       "      <td>24.0</td>\n",
       "      <td>29.0</td>\n",
       "      <td>77.0</td>\n",
       "      <td>41.466910</td>\n",
       "      <td>58.819776</td>\n",
       "      <td>53.978345</td>\n",
       "    </tr>\n",
       "    <tr>\n",
       "      <th>7</th>\n",
       "      <td>S</td>\n",
       "      <td>55.0</td>\n",
       "      <td>50.0</td>\n",
       "      <td>75.0</td>\n",
       "      <td>51.766061</td>\n",
       "      <td>56.614613</td>\n",
       "      <td>43.189654</td>\n",
       "    </tr>\n",
       "  </tbody>\n",
       "</table>\n",
       "</div>"
      ],
      "text/plain": [
       "  class*  col_0*  col_1*  col_2*     col_3*     col_4*     col_5*\n",
       "0      A     0.0     1.0     2.0   3.000000   4.000000   5.000000\n",
       "1      B     6.0     7.0     8.0   9.000000  10.000000  11.000000\n",
       "2      C    12.0    13.0    14.0  15.000000  16.000000  17.000000\n",
       "3      D    18.0    19.0    20.0  21.000000  22.000000  23.000000\n",
       "4      P    77.0    75.0    57.0  42.548682  41.804071  41.178063\n",
       "5      Q    27.0    89.0    96.0  59.582415  50.155665  50.945162\n",
       "6      R    24.0    29.0    77.0  41.466910  58.819776  53.978345\n",
       "7      S    55.0    50.0    75.0  51.766061  56.614613  43.189654"
      ]
     },
     "execution_count": 50,
     "metadata": {},
     "output_type": "execute_result"
    }
   ],
   "source": [
    "# 実行して表示\n",
    "df_star"
   ]
  },
  {
   "cell_type": "markdown",
   "metadata": {},
   "source": [
    "Exercise_13 : dfのレコード（サンプル）ごとの値をリストとして取り出してください。また、レコードごとの{カラム名：値, .....｝形式のディクショナリ―も作成してください（リスト内のディクショナリー）"
   ]
  },
  {
   "cell_type": "code",
   "execution_count": 51,
   "metadata": {},
   "outputs": [
    {
     "data": {
      "text/plain": [
       "[['A', 0.0, 1.0, 2.0, 3.0, 4.0, 5.0],\n",
       " ['B', 6.0, 7.0, 8.0, 9.0, 10.0, 11.0],\n",
       " ['C', 12.0, 13.0, 14.0, 15.0, 16.0, 17.0],\n",
       " ['D', 18.0, 19.0, 20.0, 21.0, 22.0, 23.0],\n",
       " ['P',\n",
       "  77.0,\n",
       "  75.0,\n",
       "  57.0,\n",
       "  42.548682029019616,\n",
       "  41.804070753215434,\n",
       "  41.17806326114197],\n",
       " ['Q',\n",
       "  27.0,\n",
       "  89.0,\n",
       "  96.0,\n",
       "  59.58241471520316,\n",
       "  50.15566525921544,\n",
       "  50.94516233956429],\n",
       " ['R',\n",
       "  24.0,\n",
       "  29.0,\n",
       "  77.0,\n",
       "  41.46690969476708,\n",
       "  58.81977635878266,\n",
       "  53.978344604461455],\n",
       " ['S',\n",
       "  55.0,\n",
       "  50.0,\n",
       "  75.0,\n",
       "  51.76606125869609,\n",
       "  56.61461299739337,\n",
       "  43.18965424948242]]"
      ]
     },
     "execution_count": 51,
     "metadata": {},
     "output_type": "execute_result"
    }
   ],
   "source": [
    "df.values.tolist()"
   ]
  },
  {
   "cell_type": "markdown",
   "metadata": {},
   "source": [
    "<details>\n",
    "    <summary><font color='red'>解答はここをクリック</font></summary>\n",
    "    <code>df.values.tolist()</code>\n",
    "</details>"
   ]
  },
  {
   "cell_type": "code",
   "execution_count": 52,
   "metadata": {},
   "outputs": [
    {
     "data": {
      "text/plain": [
       "[{'class': 'A',\n",
       "  'col_0': 0.0,\n",
       "  'col_1': 1.0,\n",
       "  'col_2': 2.0,\n",
       "  'col_3': 3.0,\n",
       "  'col_4': 4.0,\n",
       "  'col_5': 5.0},\n",
       " {'class': 'B',\n",
       "  'col_0': 6.0,\n",
       "  'col_1': 7.0,\n",
       "  'col_2': 8.0,\n",
       "  'col_3': 9.0,\n",
       "  'col_4': 10.0,\n",
       "  'col_5': 11.0},\n",
       " {'class': 'C',\n",
       "  'col_0': 12.0,\n",
       "  'col_1': 13.0,\n",
       "  'col_2': 14.0,\n",
       "  'col_3': 15.0,\n",
       "  'col_4': 16.0,\n",
       "  'col_5': 17.0},\n",
       " {'class': 'D',\n",
       "  'col_0': 18.0,\n",
       "  'col_1': 19.0,\n",
       "  'col_2': 20.0,\n",
       "  'col_3': 21.0,\n",
       "  'col_4': 22.0,\n",
       "  'col_5': 23.0},\n",
       " {'class': 'P',\n",
       "  'col_0': 77.0,\n",
       "  'col_1': 75.0,\n",
       "  'col_2': 57.0,\n",
       "  'col_3': 42.548682029019616,\n",
       "  'col_4': 41.804070753215434,\n",
       "  'col_5': 41.17806326114197},\n",
       " {'class': 'Q',\n",
       "  'col_0': 27.0,\n",
       "  'col_1': 89.0,\n",
       "  'col_2': 96.0,\n",
       "  'col_3': 59.58241471520316,\n",
       "  'col_4': 50.15566525921544,\n",
       "  'col_5': 50.94516233956429},\n",
       " {'class': 'R',\n",
       "  'col_0': 24.0,\n",
       "  'col_1': 29.0,\n",
       "  'col_2': 77.0,\n",
       "  'col_3': 41.46690969476708,\n",
       "  'col_4': 58.81977635878266,\n",
       "  'col_5': 53.978344604461455},\n",
       " {'class': 'S',\n",
       "  'col_0': 55.0,\n",
       "  'col_1': 50.0,\n",
       "  'col_2': 75.0,\n",
       "  'col_3': 51.76606125869609,\n",
       "  'col_4': 56.61461299739337,\n",
       "  'col_5': 43.18965424948242}]"
      ]
     },
     "execution_count": 52,
     "metadata": {},
     "output_type": "execute_result"
    }
   ],
   "source": [
    "df.to_dict(orient=\"records\")"
   ]
  },
  {
   "cell_type": "markdown",
   "metadata": {},
   "source": [
    "<details>\n",
    "    <summary><font color='red'>解答はここをクリック</font></summary>\n",
    "    <code>df.to_dict(orient='records')</code>\n",
    "</details>"
   ]
  },
  {
   "cell_type": "markdown",
   "metadata": {},
   "source": [
    "Exercise_14 : 以下でいくつかの値を np.nan で置き換えています。DataFrame形式ですべての要素に対して nan であるかどうかをTrue/Falseで表示してください。またカラム毎の nan の合計、全体の nan の合計を表示してください。"
   ]
  },
  {
   "cell_type": "code",
   "execution_count": 53,
   "metadata": {},
   "outputs": [
    {
     "data": {
      "text/html": [
       "<div>\n",
       "<style scoped>\n",
       "    .dataframe tbody tr th:only-of-type {\n",
       "        vertical-align: middle;\n",
       "    }\n",
       "\n",
       "    .dataframe tbody tr th {\n",
       "        vertical-align: top;\n",
       "    }\n",
       "\n",
       "    .dataframe thead th {\n",
       "        text-align: right;\n",
       "    }\n",
       "</style>\n",
       "<table border=\"1\" class=\"dataframe\">\n",
       "  <thead>\n",
       "    <tr style=\"text-align: right;\">\n",
       "      <th></th>\n",
       "      <th>class</th>\n",
       "      <th>col_0</th>\n",
       "      <th>col_1</th>\n",
       "      <th>col_2</th>\n",
       "      <th>col_3</th>\n",
       "      <th>col_4</th>\n",
       "      <th>col_5</th>\n",
       "    </tr>\n",
       "  </thead>\n",
       "  <tbody>\n",
       "    <tr>\n",
       "      <th>0</th>\n",
       "      <td>A</td>\n",
       "      <td>0.0</td>\n",
       "      <td>NaN</td>\n",
       "      <td>2.0</td>\n",
       "      <td>3.000000</td>\n",
       "      <td>4.000000</td>\n",
       "      <td>5.000000</td>\n",
       "    </tr>\n",
       "    <tr>\n",
       "      <th>1</th>\n",
       "      <td>B</td>\n",
       "      <td>6.0</td>\n",
       "      <td>7.0</td>\n",
       "      <td>8.0</td>\n",
       "      <td>9.000000</td>\n",
       "      <td>10.000000</td>\n",
       "      <td>11.000000</td>\n",
       "    </tr>\n",
       "    <tr>\n",
       "      <th>2</th>\n",
       "      <td>C</td>\n",
       "      <td>12.0</td>\n",
       "      <td>13.0</td>\n",
       "      <td>NaN</td>\n",
       "      <td>15.000000</td>\n",
       "      <td>16.000000</td>\n",
       "      <td>17.000000</td>\n",
       "    </tr>\n",
       "    <tr>\n",
       "      <th>3</th>\n",
       "      <td>D</td>\n",
       "      <td>18.0</td>\n",
       "      <td>19.0</td>\n",
       "      <td>20.0</td>\n",
       "      <td>NaN</td>\n",
       "      <td>22.000000</td>\n",
       "      <td>23.000000</td>\n",
       "    </tr>\n",
       "    <tr>\n",
       "      <th>4</th>\n",
       "      <td>P</td>\n",
       "      <td>77.0</td>\n",
       "      <td>75.0</td>\n",
       "      <td>57.0</td>\n",
       "      <td>42.548682</td>\n",
       "      <td>NaN</td>\n",
       "      <td>41.178063</td>\n",
       "    </tr>\n",
       "    <tr>\n",
       "      <th>5</th>\n",
       "      <td>Q</td>\n",
       "      <td>27.0</td>\n",
       "      <td>89.0</td>\n",
       "      <td>96.0</td>\n",
       "      <td>59.582415</td>\n",
       "      <td>50.155665</td>\n",
       "      <td>50.945162</td>\n",
       "    </tr>\n",
       "    <tr>\n",
       "      <th>6</th>\n",
       "      <td>R</td>\n",
       "      <td>24.0</td>\n",
       "      <td>29.0</td>\n",
       "      <td>77.0</td>\n",
       "      <td>41.466910</td>\n",
       "      <td>NaN</td>\n",
       "      <td>53.978345</td>\n",
       "    </tr>\n",
       "    <tr>\n",
       "      <th>7</th>\n",
       "      <td>S</td>\n",
       "      <td>55.0</td>\n",
       "      <td>50.0</td>\n",
       "      <td>75.0</td>\n",
       "      <td>51.766061</td>\n",
       "      <td>56.614613</td>\n",
       "      <td>43.189654</td>\n",
       "    </tr>\n",
       "  </tbody>\n",
       "</table>\n",
       "</div>"
      ],
      "text/plain": [
       "  class  col_0  col_1  col_2      col_3      col_4      col_5\n",
       "0     A    0.0    NaN    2.0   3.000000   4.000000   5.000000\n",
       "1     B    6.0    7.0    8.0   9.000000  10.000000  11.000000\n",
       "2     C   12.0   13.0    NaN  15.000000  16.000000  17.000000\n",
       "3     D   18.0   19.0   20.0        NaN  22.000000  23.000000\n",
       "4     P   77.0   75.0   57.0  42.548682        NaN  41.178063\n",
       "5     Q   27.0   89.0   96.0  59.582415  50.155665  50.945162\n",
       "6     R   24.0   29.0   77.0  41.466910        NaN  53.978345\n",
       "7     S   55.0   50.0   75.0  51.766061  56.614613  43.189654"
      ]
     },
     "execution_count": 53,
     "metadata": {},
     "output_type": "execute_result"
    }
   ],
   "source": [
    "# 実行して表示\n",
    "list_null = [[0, 2], [2, 3], [3, 4], [4, 5], [6, 5]]\n",
    "for i in list_null:\n",
    "    df.iloc[i[0], i[1]] = np.nan\n",
    "\n",
    "df"
   ]
  },
  {
   "cell_type": "code",
   "execution_count": 54,
   "metadata": {},
   "outputs": [
    {
     "data": {
      "text/html": [
       "<div>\n",
       "<style scoped>\n",
       "    .dataframe tbody tr th:only-of-type {\n",
       "        vertical-align: middle;\n",
       "    }\n",
       "\n",
       "    .dataframe tbody tr th {\n",
       "        vertical-align: top;\n",
       "    }\n",
       "\n",
       "    .dataframe thead th {\n",
       "        text-align: right;\n",
       "    }\n",
       "</style>\n",
       "<table border=\"1\" class=\"dataframe\">\n",
       "  <thead>\n",
       "    <tr style=\"text-align: right;\">\n",
       "      <th></th>\n",
       "      <th>class</th>\n",
       "      <th>col_0</th>\n",
       "      <th>col_1</th>\n",
       "      <th>col_2</th>\n",
       "      <th>col_3</th>\n",
       "      <th>col_4</th>\n",
       "      <th>col_5</th>\n",
       "    </tr>\n",
       "  </thead>\n",
       "  <tbody>\n",
       "    <tr>\n",
       "      <th>0</th>\n",
       "      <td>False</td>\n",
       "      <td>False</td>\n",
       "      <td>True</td>\n",
       "      <td>False</td>\n",
       "      <td>False</td>\n",
       "      <td>False</td>\n",
       "      <td>False</td>\n",
       "    </tr>\n",
       "    <tr>\n",
       "      <th>1</th>\n",
       "      <td>False</td>\n",
       "      <td>False</td>\n",
       "      <td>False</td>\n",
       "      <td>False</td>\n",
       "      <td>False</td>\n",
       "      <td>False</td>\n",
       "      <td>False</td>\n",
       "    </tr>\n",
       "    <tr>\n",
       "      <th>2</th>\n",
       "      <td>False</td>\n",
       "      <td>False</td>\n",
       "      <td>False</td>\n",
       "      <td>True</td>\n",
       "      <td>False</td>\n",
       "      <td>False</td>\n",
       "      <td>False</td>\n",
       "    </tr>\n",
       "    <tr>\n",
       "      <th>3</th>\n",
       "      <td>False</td>\n",
       "      <td>False</td>\n",
       "      <td>False</td>\n",
       "      <td>False</td>\n",
       "      <td>True</td>\n",
       "      <td>False</td>\n",
       "      <td>False</td>\n",
       "    </tr>\n",
       "    <tr>\n",
       "      <th>4</th>\n",
       "      <td>False</td>\n",
       "      <td>False</td>\n",
       "      <td>False</td>\n",
       "      <td>False</td>\n",
       "      <td>False</td>\n",
       "      <td>True</td>\n",
       "      <td>False</td>\n",
       "    </tr>\n",
       "    <tr>\n",
       "      <th>5</th>\n",
       "      <td>False</td>\n",
       "      <td>False</td>\n",
       "      <td>False</td>\n",
       "      <td>False</td>\n",
       "      <td>False</td>\n",
       "      <td>False</td>\n",
       "      <td>False</td>\n",
       "    </tr>\n",
       "    <tr>\n",
       "      <th>6</th>\n",
       "      <td>False</td>\n",
       "      <td>False</td>\n",
       "      <td>False</td>\n",
       "      <td>False</td>\n",
       "      <td>False</td>\n",
       "      <td>True</td>\n",
       "      <td>False</td>\n",
       "    </tr>\n",
       "    <tr>\n",
       "      <th>7</th>\n",
       "      <td>False</td>\n",
       "      <td>False</td>\n",
       "      <td>False</td>\n",
       "      <td>False</td>\n",
       "      <td>False</td>\n",
       "      <td>False</td>\n",
       "      <td>False</td>\n",
       "    </tr>\n",
       "  </tbody>\n",
       "</table>\n",
       "</div>"
      ],
      "text/plain": [
       "   class  col_0  col_1  col_2  col_3  col_4  col_5\n",
       "0  False  False   True  False  False  False  False\n",
       "1  False  False  False  False  False  False  False\n",
       "2  False  False  False   True  False  False  False\n",
       "3  False  False  False  False   True  False  False\n",
       "4  False  False  False  False  False   True  False\n",
       "5  False  False  False  False  False  False  False\n",
       "6  False  False  False  False  False   True  False\n",
       "7  False  False  False  False  False  False  False"
      ]
     },
     "execution_count": 54,
     "metadata": {},
     "output_type": "execute_result"
    }
   ],
   "source": [
    "# すべての要素に対して True or False\n",
    "df.isnull()"
   ]
  },
  {
   "cell_type": "markdown",
   "metadata": {},
   "source": [
    "<details>\n",
    "    <summary><font color='red'>解答はここをクリック</font></summary>\n",
    "    <code>df.isnull()</code>\n",
    "</details>"
   ]
  },
  {
   "cell_type": "code",
   "execution_count": 55,
   "metadata": {},
   "outputs": [
    {
     "data": {
      "text/plain": [
       "class    0\n",
       "col_0    0\n",
       "col_1    1\n",
       "col_2    1\n",
       "col_3    1\n",
       "col_4    2\n",
       "col_5    0\n",
       "dtype: int64"
      ]
     },
     "execution_count": 55,
     "metadata": {},
     "output_type": "execute_result"
    }
   ],
   "source": [
    "# カラム毎のnanの合計\n",
    "df.isnull().sum()\n"
   ]
  },
  {
   "cell_type": "markdown",
   "metadata": {},
   "source": [
    "<details>\n",
    "    <summary><font color='red'>解答はここをクリック</font></summary>\n",
    "    <code>df.isnull().sum()</code>\n",
    "</details>"
   ]
  },
  {
   "cell_type": "code",
   "execution_count": 56,
   "metadata": {},
   "outputs": [
    {
     "data": {
      "text/plain": [
       "np.int64(5)"
      ]
     },
     "execution_count": 56,
     "metadata": {},
     "output_type": "execute_result"
    }
   ],
   "source": [
    "# 全体のnanの合計\n",
    "df.isnull().sum().sum()\n"
   ]
  },
  {
   "cell_type": "markdown",
   "metadata": {},
   "source": [
    "<details>\n",
    "    <summary><font color='red'>解答はここをクリック</font></summary>\n",
    "    <code>df.isnull().sum().sum()</code>\n",
    "</details>"
   ]
  },
  {
   "cell_type": "markdown",
   "metadata": {},
   "source": [
    "Exercise_15 : nanではないレコードの数をカラム毎に表示して下さい"
   ]
  },
  {
   "cell_type": "code",
   "execution_count": 57,
   "metadata": {},
   "outputs": [
    {
     "data": {
      "text/plain": [
       "class    8\n",
       "col_0    8\n",
       "col_1    7\n",
       "col_2    7\n",
       "col_3    7\n",
       "col_4    6\n",
       "col_5    8\n",
       "dtype: int64"
      ]
     },
     "execution_count": 57,
     "metadata": {},
     "output_type": "execute_result"
    }
   ],
   "source": [
    "df.count()"
   ]
  },
  {
   "cell_type": "markdown",
   "metadata": {},
   "source": [
    "<details>\n",
    "    <summary><font color='red'>解答はここをクリック</font></summary>\n",
    "    <code>df.count()</code>\n",
    "</details>"
   ]
  },
  {
   "cell_type": "markdown",
   "metadata": {},
   "source": [
    "Exercise_14 : nan を含むレコードのみを表示して下さい。　ヒント：「各レコード」に対して nan の合計を求め、それが 1 以上のものだけを抽出"
   ]
  },
  {
   "cell_type": "code",
   "execution_count": 58,
   "metadata": {},
   "outputs": [
    {
     "data": {
      "text/plain": [
       "0    1\n",
       "1    0\n",
       "2    1\n",
       "3    1\n",
       "4    1\n",
       "5    0\n",
       "6    1\n",
       "7    0\n",
       "dtype: int64"
      ]
     },
     "execution_count": 58,
     "metadata": {},
     "output_type": "execute_result"
    }
   ],
   "source": [
    "# レコード毎のnanの合計\n",
    "df.isnull().sum(axis=1)"
   ]
  },
  {
   "cell_type": "markdown",
   "metadata": {},
   "source": [
    "<details>\n",
    "    <summary><font color='red'>解答はここをクリック</font></summary>\n",
    "    <code>df.isnull().sum(axis=1)</code>\n",
    "</details>"
   ]
  },
  {
   "cell_type": "code",
   "execution_count": 59,
   "metadata": {},
   "outputs": [
    {
     "data": {
      "text/html": [
       "<style type=\"text/css\">\n",
       "#T_69e97_row0_col2, #T_69e97_row1_col3, #T_69e97_row2_col4, #T_69e97_row3_col5, #T_69e97_row4_col5 {\n",
       "  background-color: red;\n",
       "}\n",
       "</style>\n",
       "<table id=\"T_69e97\">\n",
       "  <thead>\n",
       "    <tr>\n",
       "      <th class=\"blank level0\" >&nbsp;</th>\n",
       "      <th id=\"T_69e97_level0_col0\" class=\"col_heading level0 col0\" >class</th>\n",
       "      <th id=\"T_69e97_level0_col1\" class=\"col_heading level0 col1\" >col_0</th>\n",
       "      <th id=\"T_69e97_level0_col2\" class=\"col_heading level0 col2\" >col_1</th>\n",
       "      <th id=\"T_69e97_level0_col3\" class=\"col_heading level0 col3\" >col_2</th>\n",
       "      <th id=\"T_69e97_level0_col4\" class=\"col_heading level0 col4\" >col_3</th>\n",
       "      <th id=\"T_69e97_level0_col5\" class=\"col_heading level0 col5\" >col_4</th>\n",
       "      <th id=\"T_69e97_level0_col6\" class=\"col_heading level0 col6\" >col_5</th>\n",
       "    </tr>\n",
       "  </thead>\n",
       "  <tbody>\n",
       "    <tr>\n",
       "      <th id=\"T_69e97_level0_row0\" class=\"row_heading level0 row0\" >0</th>\n",
       "      <td id=\"T_69e97_row0_col0\" class=\"data row0 col0\" >A</td>\n",
       "      <td id=\"T_69e97_row0_col1\" class=\"data row0 col1\" >0.000000</td>\n",
       "      <td id=\"T_69e97_row0_col2\" class=\"data row0 col2\" >nan</td>\n",
       "      <td id=\"T_69e97_row0_col3\" class=\"data row0 col3\" >2.000000</td>\n",
       "      <td id=\"T_69e97_row0_col4\" class=\"data row0 col4\" >3.000000</td>\n",
       "      <td id=\"T_69e97_row0_col5\" class=\"data row0 col5\" >4.000000</td>\n",
       "      <td id=\"T_69e97_row0_col6\" class=\"data row0 col6\" >5.000000</td>\n",
       "    </tr>\n",
       "    <tr>\n",
       "      <th id=\"T_69e97_level0_row1\" class=\"row_heading level0 row1\" >2</th>\n",
       "      <td id=\"T_69e97_row1_col0\" class=\"data row1 col0\" >C</td>\n",
       "      <td id=\"T_69e97_row1_col1\" class=\"data row1 col1\" >12.000000</td>\n",
       "      <td id=\"T_69e97_row1_col2\" class=\"data row1 col2\" >13.000000</td>\n",
       "      <td id=\"T_69e97_row1_col3\" class=\"data row1 col3\" >nan</td>\n",
       "      <td id=\"T_69e97_row1_col4\" class=\"data row1 col4\" >15.000000</td>\n",
       "      <td id=\"T_69e97_row1_col5\" class=\"data row1 col5\" >16.000000</td>\n",
       "      <td id=\"T_69e97_row1_col6\" class=\"data row1 col6\" >17.000000</td>\n",
       "    </tr>\n",
       "    <tr>\n",
       "      <th id=\"T_69e97_level0_row2\" class=\"row_heading level0 row2\" >3</th>\n",
       "      <td id=\"T_69e97_row2_col0\" class=\"data row2 col0\" >D</td>\n",
       "      <td id=\"T_69e97_row2_col1\" class=\"data row2 col1\" >18.000000</td>\n",
       "      <td id=\"T_69e97_row2_col2\" class=\"data row2 col2\" >19.000000</td>\n",
       "      <td id=\"T_69e97_row2_col3\" class=\"data row2 col3\" >20.000000</td>\n",
       "      <td id=\"T_69e97_row2_col4\" class=\"data row2 col4\" >nan</td>\n",
       "      <td id=\"T_69e97_row2_col5\" class=\"data row2 col5\" >22.000000</td>\n",
       "      <td id=\"T_69e97_row2_col6\" class=\"data row2 col6\" >23.000000</td>\n",
       "    </tr>\n",
       "    <tr>\n",
       "      <th id=\"T_69e97_level0_row3\" class=\"row_heading level0 row3\" >4</th>\n",
       "      <td id=\"T_69e97_row3_col0\" class=\"data row3 col0\" >P</td>\n",
       "      <td id=\"T_69e97_row3_col1\" class=\"data row3 col1\" >77.000000</td>\n",
       "      <td id=\"T_69e97_row3_col2\" class=\"data row3 col2\" >75.000000</td>\n",
       "      <td id=\"T_69e97_row3_col3\" class=\"data row3 col3\" >57.000000</td>\n",
       "      <td id=\"T_69e97_row3_col4\" class=\"data row3 col4\" >42.548682</td>\n",
       "      <td id=\"T_69e97_row3_col5\" class=\"data row3 col5\" >nan</td>\n",
       "      <td id=\"T_69e97_row3_col6\" class=\"data row3 col6\" >41.178063</td>\n",
       "    </tr>\n",
       "    <tr>\n",
       "      <th id=\"T_69e97_level0_row4\" class=\"row_heading level0 row4\" >6</th>\n",
       "      <td id=\"T_69e97_row4_col0\" class=\"data row4 col0\" >R</td>\n",
       "      <td id=\"T_69e97_row4_col1\" class=\"data row4 col1\" >24.000000</td>\n",
       "      <td id=\"T_69e97_row4_col2\" class=\"data row4 col2\" >29.000000</td>\n",
       "      <td id=\"T_69e97_row4_col3\" class=\"data row4 col3\" >77.000000</td>\n",
       "      <td id=\"T_69e97_row4_col4\" class=\"data row4 col4\" >41.466910</td>\n",
       "      <td id=\"T_69e97_row4_col5\" class=\"data row4 col5\" >nan</td>\n",
       "      <td id=\"T_69e97_row4_col6\" class=\"data row4 col6\" >53.978345</td>\n",
       "    </tr>\n",
       "  </tbody>\n",
       "</table>\n"
      ],
      "text/plain": [
       "<pandas.io.formats.style.Styler at 0x1e731173080>"
      ]
     },
     "execution_count": 59,
     "metadata": {},
     "output_type": "execute_result"
    }
   ],
   "source": [
    "# 上記の合計 >= 1 の条件で抽出\n",
    "# .style.highlight_null(null_color='red')を使ってください\n",
    "df[df.isnull().sum(axis=1) >= 1].style.highlight_null(color=\"red\")"
   ]
  },
  {
   "cell_type": "markdown",
   "metadata": {},
   "source": [
    "<details>\n",
    "    <summary><font color='red'>解答はここをクリック</font></summary>\n",
    "    <code>df[df.isnull().sum(axis=1) >= 1].style.highlight_null(null_color='red')</code>\n",
    "</details>"
   ]
  },
  {
   "cell_type": "markdown",
   "metadata": {},
   "source": [
    "Exercise_16 : dfの数値のみのカラム毎の合計値を、異なる二つの手法で求めてください"
   ]
  },
  {
   "cell_type": "code",
   "execution_count": 60,
   "metadata": {},
   "outputs": [
    {
     "data": {
      "text/plain": [
       "class      ABCDPQRS\n",
       "col_0         219.0\n",
       "col_1         282.0\n",
       "col_2         335.0\n",
       "col_3    222.364068\n",
       "col_4    158.770278\n",
       "col_5    245.291224\n",
       "dtype: object"
      ]
     },
     "execution_count": 60,
     "metadata": {},
     "output_type": "execute_result"
    }
   ],
   "source": [
    "# 実行して表示\n",
    "df.sum()"
   ]
  },
  {
   "cell_type": "code",
   "execution_count": 61,
   "metadata": {},
   "outputs": [
    {
     "data": {
      "text/plain": [
       "col_0    219.000000\n",
       "col_1    282.000000\n",
       "col_2    335.000000\n",
       "col_3    222.364068\n",
       "col_4    158.770278\n",
       "col_5    245.291224\n",
       "dtype: float64"
      ]
     },
     "execution_count": 61,
     "metadata": {},
     "output_type": "execute_result"
    }
   ],
   "source": [
    "# sumのキーワードアーギュメント（キーワード引数）を指定する方法\n",
    "df.sum(numeric_only=True)"
   ]
  },
  {
   "cell_type": "markdown",
   "metadata": {},
   "source": [
    "<details>\n",
    "    <summary><font color='red'>解答はここをクリック</font></summary>\n",
    "    <code>df.sum(numeric_only=True)</code>\n",
    "</details>"
   ]
  },
  {
   "cell_type": "code",
   "execution_count": 62,
   "metadata": {},
   "outputs": [
    {
     "data": {
      "text/plain": [
       "col_0    219.000000\n",
       "col_1    282.000000\n",
       "col_2    335.000000\n",
       "col_3    222.364068\n",
       "col_4    158.770278\n",
       "col_5    245.291224\n",
       "dtype: float64"
      ]
     },
     "execution_count": 62,
     "metadata": {},
     "output_type": "execute_result"
    }
   ],
   "source": [
    "# dtypeが数値のもののみを選択する方法\n",
    "df.select_dtypes(include=[int, float]).sum()"
   ]
  },
  {
   "cell_type": "markdown",
   "metadata": {},
   "source": [
    "<details>\n",
    "    <summary><font color='red'>解答はここをクリック</font></summary>\n",
    "    <code>df.select_dtypes(include=[int, float]).sum()</code>\n",
    "</details>"
   ]
  },
  {
   "cell_type": "markdown",
   "metadata": {},
   "source": [
    "Exercise_17 : nan を視覚的に把握できるように seaborn の heatmap で df.isnull() を表示してください。  "
   ]
  },
  {
   "cell_type": "code",
   "execution_count": 63,
   "metadata": {},
   "outputs": [
    {
     "data": {
      "text/plain": [
       "<Axes: >"
      ]
     },
     "execution_count": 63,
     "metadata": {},
     "output_type": "execute_result"
    },
    {
     "data": {
      "image/png": "[encoded data removed]",
      "text/plain": [
       "<Figure size 640x480 with 2 Axes>"
      ]
     },
     "metadata": {},
     "output_type": "display_data"
    }
   ],
   "source": [
    "# 実行して表示するだけ\n",
    "sns.heatmap(df.isnull())"
   ]
  },
  {
   "cell_type": "markdown",
   "metadata": {},
   "source": [
    "Exercise_18 : 今回作成した df を df_exercise.csv として現在のワーキングディレクトリに保存してください"
   ]
  },
  {
   "cell_type": "code",
   "execution_count": 64,
   "metadata": {},
   "outputs": [],
   "source": [
    "df.to_csv(\"./df_exercise.csv\")"
   ]
  },
  {
   "cell_type": "markdown",
   "metadata": {},
   "source": [
    "<details>\n",
    "    <summary><font color='red'>解答はここをクリック</font></summary>\n",
    "    <code>df.to_csv('df_exercise.csv')</code>\n",
    "</details>"
   ]
  },
  {
   "cell_type": "markdown",
   "metadata": {},
   "source": [
    "Exercise_19 : 下記の値を答えてください"
   ]
  },
  {
   "cell_type": "code",
   "execution_count": 65,
   "metadata": {},
   "outputs": [
    {
     "data": {
      "text/plain": [
       "array([[[ 0,  1,  2],\n",
       "        [ 3,  4,  5]],\n",
       "\n",
       "       [[ 6,  7,  8],\n",
       "        [ 9, 10, 11]]])"
      ]
     },
     "execution_count": 65,
     "metadata": {},
     "output_type": "execute_result"
    }
   ],
   "source": [
    "# 実行して表示\n",
    "np.random.seed(17)\n",
    "arr = np.arange(12).reshape(2, 2, 3)\n",
    "arr"
   ]
  },
  {
   "cell_type": "code",
   "execution_count": 66,
   "metadata": {},
   "outputs": [
    {
     "name": "stdout",
     "output_type": "stream",
     "text": [
      "[[ 6  8 10]\n",
      " [12 14 16]]\n"
     ]
    }
   ],
   "source": [
    "# 結果を考えてから、実行して確認\n",
    "print(arr.sum(axis=0))"
   ]
  },
  {
   "cell_type": "code",
   "execution_count": 67,
   "metadata": {},
   "outputs": [
    {
     "name": "stdout",
     "output_type": "stream",
     "text": [
      "[[ 3  5  7]\n",
      " [15 17 19]]\n"
     ]
    }
   ],
   "source": [
    "# 結果を考えてから、実行して確認\n",
    "print(arr.sum(axis=1))"
   ]
  },
  {
   "cell_type": "code",
   "execution_count": 68,
   "metadata": {},
   "outputs": [
    {
     "name": "stdout",
     "output_type": "stream",
     "text": [
      "[[ 1.  4.]\n",
      " [ 7. 10.]]\n"
     ]
    }
   ],
   "source": [
    "# 結果を考えてから、実行して確認\n",
    "print(arr.mean(axis=2))"
   ]
  },
  {
   "cell_type": "markdown",
   "metadata": {},
   "source": [
    "## 以上"
   ]
  }
 ],
 "metadata": {
  "kernelspec": {
   "display_name": "Python 3",
   "language": "python",
   "name": "python3"
  },
  "language_info": {
   "codemirror_mode": {
    "name": "ipython",
    "version": 3
   },
   "file_extension": ".py",
   "mimetype": "text/x-python",
   "name": "python",
   "nbconvert_exporter": "python",
   "pygments_lexer": "ipython3",
   "version": "3.12.4"
  }
 },
 "nbformat": 4,
 "nbformat_minor": 2
}
